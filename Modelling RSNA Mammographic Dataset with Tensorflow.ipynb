{
 "cells": [
  {
   "cell_type": "markdown",
   "id": "f8799683-28d5-4039-b086-35c60a788cab",
   "metadata": {},
   "source": [
    "# Modelling RSNA Mammographic Dataset with Tensorflow\n",
    "\n",
    "Author: Amir Fawwaz\n",
    "\n",
    "Affliation: Twistcode® Technologies Sdn. Bhd., Cyberjaya, Malaysia\n",
    "\n",
    "Published: 31 December 2022\n",
    "\n",
    "## Introduction\n",
    "This dataset is taken from [kaggle](https://www.kaggle.com/competitions/rsna-breast-cancer-detection/overview)\n",
    "\n",
    "## Objective\n",
    "Since the dataset is quite big (which is in DICOM format), we would like to pre-processing it to:\n",
    "\n",
    "+ single pickle file (or any other suitable format)\n",
    "\n",
    "to ease the machine learning modeling afterwards. However, in this example, we only use a sample from the original dataset.\n",
    "\n",
    "## Dataset Description\n",
    "\n",
    "Metadata for each patient and image. Only the first few rows of the test set are available for download.\n",
    "\n",
    "+ site_id - ID code for the source hospital.\n",
    "+ patient_id - ID code for the patient.\n",
    "+ image_id - ID code for the image.\n",
    "+ laterality - Whether the image is of the left or right breast.\n",
    "+ view - The orientation of the image. The default for a screening exam is to capture two views per breast.\n",
    "+ age - The patient's age in years.\n",
    "+ implant - Whether or not the patient had breast implants. Site 1 only provides breast implant information at the patient level, not at the breast level.\n",
    "+ density - A rating for how dense the breast tissue is, with A being the least dense and D being the most dense. Extremely dense tissue can make diagnosis more difficult. Only provided for train.\n",
    "+ machine_id - An ID code for the imaging device.\n",
    "+ cancer - Whether or not the breast was positive for malignant cancer. The target value. Only provided for train.\n",
    "+ biopsy - Whether or not a follow-up biopsy was performed on the breast. Only provided for train.\n",
    "+ invasive - If the breast is positive for cancer, whether or not the cancer proved to be invasive. Only provided for train.\n",
    "+ BIRADS - 0 if the breast required follow-up, 1 if the breast was rated as negative for cancer, and 2 if the breast was rated as normal. Only provided for train.\n",
    "+ prediction_id - The ID for the matching submission row. Multiple images will share the same prediction ID. Test only.\n",
    "+ difficult_negative_case - True if the case was unusually difficult. Only provided for train.\n",
    "\n",
    "## A bit on DICOM\n",
    "\n",
    "\n",
    "+ Pixel Depth: is the number of bits used to encode the information of each pixel. For example, an 8-bit raster can have 256 unique values that range from 0 to 255.\n",
    "\n",
    "+ Photometric Interpretation: specifies how the pixel data should be interpreted for the correct image display as a monochrome or color image. To specify if the color information is or is not stored in the image pixel values, we introduce the concept of samples per pixel, also known as (number of channels).\n",
    "\n",
    "+ Metadata: is the information that describes the image (i.e. patients ID, date of the image).\n",
    "\n",
    "+ Pixel Data: is the section where the numerical values of the pixels are stored. All the components are essential but in our scope the pixel depth and pixel data. To my knowledge that ultrasound images are not an issue with converting the image to another format, but we have to look into consideration the depth of the image since _**we cannot convert 16-bit DICOM image to JPEG or PNG with 8-bit that might corrupt the image quality and image features**_. Pixel data the data that we are going to feed it to the network.\n",
    "\n",
    "## Analysis setup\n",
    "Preliminary analysis in this report was derive from small sample data.\n",
    "\n",
    "This report is generated using Jupyterlab which runs on Windows 11 Pro with the following specification:\n",
    "\n",
    "+ Intel Core i7-8700K, 3.7 GHz (6 cores)\n",
    "+ 32 GiB, Corsair DDR4 (1066MHz)\n",
    "+ NVMe (SSD Micron MTFDDAV512TBN)\n",
    "+ Nvidia RTX 2080 Ti\n",
    "\n",
    "+ python 3.7.9\n",
    "+ CUDA 10.0\n",
    "+ cuDNN 7.6.5.32"
   ]
  },
  {
   "cell_type": "code",
   "execution_count": 1,
   "id": "a47ccaee-47b2-4dd2-ade2-93c3663cb060",
   "metadata": {},
   "outputs": [
    {
     "name": "stdout",
     "output_type": "stream",
     "text": [
      "Collecting pylibjpeg\n",
      "  Using cached pylibjpeg-1.4.0-py3-none-any.whl (28 kB)\n",
      "Collecting pylibjpeg-openjpeg\n",
      "  Downloading pylibjpeg_openjpeg-1.3.0-cp310-cp310-manylinux_2_17_x86_64.manylinux2014_x86_64.whl (1.4 MB)\n",
      "\u001b[2K     \u001b[38;2;114;156;31m━━━━━━━━━━━━━━━━━━━━━━━━━━━━━━━━━━━━━━━━\u001b[0m \u001b[32m1.4/1.4 MB\u001b[0m \u001b[31m5.9 MB/s\u001b[0m eta \u001b[36m0:00:00\u001b[0mm eta \u001b[36m0:00:01\u001b[0m[36m0:00:01\u001b[0m\n",
      "\u001b[?25hCollecting pylibjpeg-libjpeg\n",
      "  Using cached pylibjpeg_libjpeg-1.3.2-cp310-cp310-manylinux_2_17_x86_64.manylinux2014_x86_64.whl (4.3 MB)\n",
      "Collecting pydicom\n",
      "  Using cached pydicom-2.3.1-py3-none-any.whl (2.0 MB)\n",
      "Collecting python-gdcm\n",
      "  Using cached python_gdcm-3.0.20-cp310-cp310-manylinux_2_17_x86_64.manylinux2014_x86_64.whl (13.0 MB)\n",
      "Requirement already satisfied: numpy in /home/twistcode/Downloads/guasukalu/lib/python3.10/site-packages (from pylibjpeg) (1.24.1)\n",
      "Installing collected packages: python-gdcm, pylibjpeg-openjpeg, pylibjpeg-libjpeg, pylibjpeg, pydicom\n",
      "Successfully installed pydicom-2.3.1 pylibjpeg-1.4.0 pylibjpeg-libjpeg-1.3.2 pylibjpeg-openjpeg-1.3.0 python-gdcm-3.0.20\n"
     ]
    }
   ],
   "source": [
    "!pip install -U pylibjpeg pylibjpeg-openjpeg pylibjpeg-libjpeg pydicom python-gdcm"
   ]
  },
  {
   "cell_type": "markdown",
   "id": "28a8c36e-da74-4d04-947a-85dc74307d37",
   "metadata": {},
   "source": [
    "## DataSet Exploratory Data Analysis (EDA)"
   ]
  },
  {
   "cell_type": "code",
   "execution_count": 4,
   "id": "41848994-8a0f-4752-80eb-e234ec54c09a",
   "metadata": {},
   "outputs": [
    {
     "name": "stderr",
     "output_type": "stream",
     "text": [
      "2023-01-01 23:53:02.982035: I tensorflow/core/platform/cpu_feature_guard.cc:193] This TensorFlow binary is optimized with oneAPI Deep Neural Network Library (oneDNN) to use the following CPU instructions in performance-critical operations:  AVX2 FMA\n",
      "To enable them in other operations, rebuild TensorFlow with the appropriate compiler flags.\n",
      "2023-01-01 23:53:03.255691: E tensorflow/stream_executor/cuda/cuda_blas.cc:2981] Unable to register cuBLAS factory: Attempting to register factory for plugin cuBLAS when one has already been registered\n",
      "2023-01-01 23:53:04.421081: W tensorflow/stream_executor/platform/default/dso_loader.cc:64] Could not load dynamic library 'libnvinfer.so.7'; dlerror: libnvinfer.so.7: cannot open shared object file: No such file or directory; LD_LIBRARY_PATH: /home/twistcode/Downloads/guasukalu/lib/python3.10/site-packages/cv2/../../lib64:/usr/local/cuda-11.2/lib64\n",
      "2023-01-01 23:53:04.421162: W tensorflow/stream_executor/platform/default/dso_loader.cc:64] Could not load dynamic library 'libnvinfer_plugin.so.7'; dlerror: libnvinfer_plugin.so.7: cannot open shared object file: No such file or directory; LD_LIBRARY_PATH: /home/twistcode/Downloads/guasukalu/lib/python3.10/site-packages/cv2/../../lib64:/usr/local/cuda-11.2/lib64\n",
      "2023-01-01 23:53:04.421170: W tensorflow/compiler/tf2tensorrt/utils/py_utils.cc:38] TF-TRT Warning: Cannot dlopen some TensorRT libraries. If you would like to use Nvidia GPU with TensorRT, please make sure the missing libraries mentioned above are installed properly.\n"
     ]
    }
   ],
   "source": [
    "import pandas as pd\n",
    "import numpy as np\n",
    "import pandas as pd\n",
    "import seaborn as sns\n",
    "sns.set_theme()\n",
    "import matplotlib.pyplot as plt\n",
    "from termcolor import colored\n",
    "from tqdm import tqdm\n",
    "from glob import glob\n",
    "from pathlib import Path\n",
    "from IPython.display import clear_output, display_html\n",
    "\n",
    "import os\n",
    "import pydicom\n",
    "import cv2\n",
    "import pickle\n",
    "\n",
    "import tensorflow as tf\n",
    "from tensorflow import keras\n",
    "from tensorflow.keras.models import Sequential\n",
    "from tensorflow.keras.layers import BatchNormalization\n",
    "from tensorflow.keras.layers import SeparableConv2D\n",
    "from tensorflow.keras.layers import MaxPooling2D\n",
    "from tensorflow.keras.layers import Conv2D\n",
    "from tensorflow.keras.layers import Activation\n",
    "from tensorflow.keras.layers import Flatten\n",
    "from tensorflow.keras.layers import Dropout\n",
    "from tensorflow.keras.layers import Dense\n",
    "from keras import metrics\n",
    "from tensorflow.keras.optimizers import Adam\n",
    "\n",
    "seed = 42\n",
    "np.random.seed(seed)\n",
    "tf.random.set_seed(seed)"
   ]
  },
  {
   "cell_type": "code",
   "execution_count": 5,
   "id": "d87aa474-13f9-4757-aa07-8e3b7063a2d9",
   "metadata": {},
   "outputs": [
    {
     "name": "stdout",
     "output_type": "stream",
     "text": [
      "\u001b[1m\u001b[36m==== Train ====\u001b[0m\n",
      "\u001b[1m\u001b[36mShape: \u001b[0m (54706, 14)\n",
      "\u001b[1m\u001b[36mNaN Values: \u001b[0m 53693 \n",
      "\n"
     ]
    },
    {
     "data": {
      "text/html": [
       "<div>\n",
       "<style scoped>\n",
       "    .dataframe tbody tr th:only-of-type {\n",
       "        vertical-align: middle;\n",
       "    }\n",
       "\n",
       "    .dataframe tbody tr th {\n",
       "        vertical-align: top;\n",
       "    }\n",
       "\n",
       "    .dataframe thead th {\n",
       "        text-align: right;\n",
       "    }\n",
       "</style>\n",
       "<table border=\"1\" class=\"dataframe\">\n",
       "  <thead>\n",
       "    <tr style=\"text-align: right;\">\n",
       "      <th></th>\n",
       "      <th>site_id</th>\n",
       "      <th>patient_id</th>\n",
       "      <th>image_id</th>\n",
       "      <th>laterality</th>\n",
       "      <th>view</th>\n",
       "      <th>age</th>\n",
       "      <th>cancer</th>\n",
       "      <th>biopsy</th>\n",
       "      <th>invasive</th>\n",
       "      <th>BIRADS</th>\n",
       "      <th>implant</th>\n",
       "      <th>density</th>\n",
       "      <th>machine_id</th>\n",
       "      <th>difficult_negative_case</th>\n",
       "    </tr>\n",
       "  </thead>\n",
       "  <tbody>\n",
       "    <tr>\n",
       "      <th>0</th>\n",
       "      <td>2</td>\n",
       "      <td>10006</td>\n",
       "      <td>462822612</td>\n",
       "      <td>L</td>\n",
       "      <td>CC</td>\n",
       "      <td>61.0</td>\n",
       "      <td>0</td>\n",
       "      <td>0</td>\n",
       "      <td>0</td>\n",
       "      <td>NaN</td>\n",
       "      <td>0</td>\n",
       "      <td>NaN</td>\n",
       "      <td>29</td>\n",
       "      <td>False</td>\n",
       "    </tr>\n",
       "    <tr>\n",
       "      <th>1</th>\n",
       "      <td>2</td>\n",
       "      <td>10006</td>\n",
       "      <td>1459541791</td>\n",
       "      <td>L</td>\n",
       "      <td>MLO</td>\n",
       "      <td>61.0</td>\n",
       "      <td>0</td>\n",
       "      <td>0</td>\n",
       "      <td>0</td>\n",
       "      <td>NaN</td>\n",
       "      <td>0</td>\n",
       "      <td>NaN</td>\n",
       "      <td>29</td>\n",
       "      <td>False</td>\n",
       "    </tr>\n",
       "    <tr>\n",
       "      <th>2</th>\n",
       "      <td>2</td>\n",
       "      <td>10006</td>\n",
       "      <td>1864590858</td>\n",
       "      <td>R</td>\n",
       "      <td>MLO</td>\n",
       "      <td>61.0</td>\n",
       "      <td>0</td>\n",
       "      <td>0</td>\n",
       "      <td>0</td>\n",
       "      <td>NaN</td>\n",
       "      <td>0</td>\n",
       "      <td>NaN</td>\n",
       "      <td>29</td>\n",
       "      <td>False</td>\n",
       "    </tr>\n",
       "    <tr>\n",
       "      <th>3</th>\n",
       "      <td>2</td>\n",
       "      <td>10006</td>\n",
       "      <td>1874946579</td>\n",
       "      <td>R</td>\n",
       "      <td>CC</td>\n",
       "      <td>61.0</td>\n",
       "      <td>0</td>\n",
       "      <td>0</td>\n",
       "      <td>0</td>\n",
       "      <td>NaN</td>\n",
       "      <td>0</td>\n",
       "      <td>NaN</td>\n",
       "      <td>29</td>\n",
       "      <td>False</td>\n",
       "    </tr>\n",
       "    <tr>\n",
       "      <th>4</th>\n",
       "      <td>2</td>\n",
       "      <td>10011</td>\n",
       "      <td>220375232</td>\n",
       "      <td>L</td>\n",
       "      <td>CC</td>\n",
       "      <td>55.0</td>\n",
       "      <td>0</td>\n",
       "      <td>0</td>\n",
       "      <td>0</td>\n",
       "      <td>0.0</td>\n",
       "      <td>0</td>\n",
       "      <td>NaN</td>\n",
       "      <td>21</td>\n",
       "      <td>True</td>\n",
       "    </tr>\n",
       "  </tbody>\n",
       "</table>\n",
       "</div>"
      ]
     },
     "metadata": {},
     "output_type": "display_data"
    },
    {
     "name": "stdout",
     "output_type": "stream",
     "text": [
      "\n",
      "\n",
      "\u001b[1m\u001b[36m==== Test ====\u001b[0m\n",
      "\u001b[1m\u001b[36mShape: \u001b[0m (4, 9)\n",
      "\u001b[1m\u001b[36mNaN Values: \u001b[0m 0 \n",
      "\n"
     ]
    },
    {
     "data": {
      "text/html": [
       "<div>\n",
       "<style scoped>\n",
       "    .dataframe tbody tr th:only-of-type {\n",
       "        vertical-align: middle;\n",
       "    }\n",
       "\n",
       "    .dataframe tbody tr th {\n",
       "        vertical-align: top;\n",
       "    }\n",
       "\n",
       "    .dataframe thead th {\n",
       "        text-align: right;\n",
       "    }\n",
       "</style>\n",
       "<table border=\"1\" class=\"dataframe\">\n",
       "  <thead>\n",
       "    <tr style=\"text-align: right;\">\n",
       "      <th></th>\n",
       "      <th>site_id</th>\n",
       "      <th>patient_id</th>\n",
       "      <th>image_id</th>\n",
       "      <th>laterality</th>\n",
       "      <th>view</th>\n",
       "      <th>age</th>\n",
       "      <th>implant</th>\n",
       "      <th>machine_id</th>\n",
       "      <th>prediction_id</th>\n",
       "    </tr>\n",
       "  </thead>\n",
       "  <tbody>\n",
       "    <tr>\n",
       "      <th>0</th>\n",
       "      <td>2</td>\n",
       "      <td>10008</td>\n",
       "      <td>736471439</td>\n",
       "      <td>L</td>\n",
       "      <td>MLO</td>\n",
       "      <td>81</td>\n",
       "      <td>0</td>\n",
       "      <td>21</td>\n",
       "      <td>10008_L</td>\n",
       "    </tr>\n",
       "    <tr>\n",
       "      <th>1</th>\n",
       "      <td>2</td>\n",
       "      <td>10008</td>\n",
       "      <td>1591370361</td>\n",
       "      <td>L</td>\n",
       "      <td>CC</td>\n",
       "      <td>81</td>\n",
       "      <td>0</td>\n",
       "      <td>21</td>\n",
       "      <td>10008_L</td>\n",
       "    </tr>\n",
       "    <tr>\n",
       "      <th>2</th>\n",
       "      <td>2</td>\n",
       "      <td>10008</td>\n",
       "      <td>68070693</td>\n",
       "      <td>R</td>\n",
       "      <td>MLO</td>\n",
       "      <td>81</td>\n",
       "      <td>0</td>\n",
       "      <td>21</td>\n",
       "      <td>10008_R</td>\n",
       "    </tr>\n",
       "    <tr>\n",
       "      <th>3</th>\n",
       "      <td>2</td>\n",
       "      <td>10008</td>\n",
       "      <td>361203119</td>\n",
       "      <td>R</td>\n",
       "      <td>CC</td>\n",
       "      <td>81</td>\n",
       "      <td>0</td>\n",
       "      <td>21</td>\n",
       "      <td>10008_R</td>\n",
       "    </tr>\n",
       "  </tbody>\n",
       "</table>\n",
       "</div>"
      ]
     },
     "metadata": {},
     "output_type": "display_data"
    },
    {
     "name": "stdout",
     "output_type": "stream",
     "text": [
      "\n",
      "\n",
      "\u001b[1m\u001b[36m==== Sample Submission ====\u001b[0m\n",
      "\u001b[1m\u001b[36mShape: \u001b[0m (2, 2)\n",
      "\u001b[1m\u001b[36mNaN Values: \u001b[0m 0 \n",
      "\n"
     ]
    },
    {
     "data": {
      "text/html": [
       "<div>\n",
       "<style scoped>\n",
       "    .dataframe tbody tr th:only-of-type {\n",
       "        vertical-align: middle;\n",
       "    }\n",
       "\n",
       "    .dataframe tbody tr th {\n",
       "        vertical-align: top;\n",
       "    }\n",
       "\n",
       "    .dataframe thead th {\n",
       "        text-align: right;\n",
       "    }\n",
       "</style>\n",
       "<table border=\"1\" class=\"dataframe\">\n",
       "  <thead>\n",
       "    <tr style=\"text-align: right;\">\n",
       "      <th></th>\n",
       "      <th>prediction_id</th>\n",
       "      <th>cancer</th>\n",
       "    </tr>\n",
       "  </thead>\n",
       "  <tbody>\n",
       "    <tr>\n",
       "      <th>0</th>\n",
       "      <td>10008_L</td>\n",
       "      <td>0.021168</td>\n",
       "    </tr>\n",
       "    <tr>\n",
       "      <th>1</th>\n",
       "      <td>10008_R</td>\n",
       "      <td>0.021168</td>\n",
       "    </tr>\n",
       "  </tbody>\n",
       "</table>\n",
       "</div>"
      ]
     },
     "metadata": {},
     "output_type": "display_data"
    }
   ],
   "source": [
    "def load_data():\n",
    "    '''Load each of the datasets we are given.'''\n",
    "    \n",
    "    data_dir = Path(\"rsna-breast-cancer-detection\")\n",
    "    dir_up_ = Path(data_dir).parents[0]\n",
    "    train = pd.read_csv(dir_up_ / \"train.csv\")\n",
    "    test = pd.read_csv(dir_up_ / \"test.csv\")\n",
    "    sample_submission = pd.read_csv(dir_up_ / 'sample_submission.csv')\n",
    "    # return train, test\n",
    "    return train, test, sample_submission\n",
    "\n",
    "\n",
    "def data_info(csv, name=\"Train\"):\n",
    "    '''Prints basic information about the datasets we are given.'''\n",
    "    '''Inspired by: https://www.kaggle.com/code/andradaolteanu/rsna-fracture-detection-dicom-images-explore'''\n",
    "    \n",
    "    print(colored('==== {} ===='.format(name), 'cyan', attrs=['bold']))\n",
    "    print(colored('Shape: ', 'cyan', attrs=['bold']), csv.shape)\n",
    "    print(colored('NaN Values: ', 'cyan', attrs=['bold']), csv.isnull().sum().sum(), '\\n')\n",
    "    #print(colored('Columns: ', 'blue', attrs=['bold']), list(csv.columns))\n",
    "    \n",
    "    display_html(csv.head())\n",
    "    if name != 'Sample Submission': print(\"\\n\")\n",
    "\n",
    "\n",
    "train, test, sample_submission = load_data()\n",
    "clear_output()\n",
    "\n",
    "\n",
    "names = [\"Train\", \"Test\", \"Sample Submission\"]\n",
    "for i, df in enumerate([train, test, sample_submission]): \n",
    "    data_info(df, names[i])"
   ]
  },
  {
   "cell_type": "markdown",
   "id": "d4a6d185-5d3c-4b56-8d85-8adb03f9d885",
   "metadata": {},
   "source": [
    "### Early Insight about Data\n",
    "\n",
    "+ In the metadata training file we have plenty of missing values.\n",
    "+ Repeated values for patient_id. It seems that for each patient, 4 images have been taken.\n",
    "+ Some features from the training set do not appear in the testing one.\n",
    "\n",
    "In order to make a proper analysis, we're gonna load every metadata from the images into a dataframe. Some of this data may be useful afterwards for the model training and splitting strategies."
   ]
  },
  {
   "cell_type": "code",
   "execution_count": 6,
   "id": "fb76a01f-df8e-422e-a0f9-958da277f906",
   "metadata": {},
   "outputs": [
    {
     "name": "stdout",
     "output_type": "stream",
     "text": [
      "53548\n"
     ]
    },
    {
     "data": {
      "text/html": [
       "<div>\n",
       "<style scoped>\n",
       "    .dataframe tbody tr th:only-of-type {\n",
       "        vertical-align: middle;\n",
       "    }\n",
       "\n",
       "    .dataframe tbody tr th {\n",
       "        vertical-align: top;\n",
       "    }\n",
       "\n",
       "    .dataframe thead th {\n",
       "        text-align: right;\n",
       "    }\n",
       "</style>\n",
       "<table border=\"1\" class=\"dataframe\">\n",
       "  <thead>\n",
       "    <tr style=\"text-align: right;\">\n",
       "      <th></th>\n",
       "      <th>site_id</th>\n",
       "      <th>patient_id</th>\n",
       "      <th>image_id</th>\n",
       "      <th>laterality</th>\n",
       "      <th>view</th>\n",
       "      <th>age</th>\n",
       "      <th>cancer</th>\n",
       "      <th>biopsy</th>\n",
       "      <th>invasive</th>\n",
       "      <th>BIRADS</th>\n",
       "      <th>implant</th>\n",
       "      <th>density</th>\n",
       "      <th>machine_id</th>\n",
       "      <th>difficult_negative_case</th>\n",
       "    </tr>\n",
       "  </thead>\n",
       "  <tbody>\n",
       "    <tr>\n",
       "      <th>0</th>\n",
       "      <td>2</td>\n",
       "      <td>10006</td>\n",
       "      <td>462822612</td>\n",
       "      <td>L</td>\n",
       "      <td>CC</td>\n",
       "      <td>61.0</td>\n",
       "      <td>0</td>\n",
       "      <td>0</td>\n",
       "      <td>0</td>\n",
       "      <td>NaN</td>\n",
       "      <td>0</td>\n",
       "      <td>NaN</td>\n",
       "      <td>29</td>\n",
       "      <td>False</td>\n",
       "    </tr>\n",
       "    <tr>\n",
       "      <th>1</th>\n",
       "      <td>2</td>\n",
       "      <td>10006</td>\n",
       "      <td>1459541791</td>\n",
       "      <td>L</td>\n",
       "      <td>MLO</td>\n",
       "      <td>61.0</td>\n",
       "      <td>0</td>\n",
       "      <td>0</td>\n",
       "      <td>0</td>\n",
       "      <td>NaN</td>\n",
       "      <td>0</td>\n",
       "      <td>NaN</td>\n",
       "      <td>29</td>\n",
       "      <td>False</td>\n",
       "    </tr>\n",
       "    <tr>\n",
       "      <th>2</th>\n",
       "      <td>2</td>\n",
       "      <td>10006</td>\n",
       "      <td>1864590858</td>\n",
       "      <td>R</td>\n",
       "      <td>MLO</td>\n",
       "      <td>61.0</td>\n",
       "      <td>0</td>\n",
       "      <td>0</td>\n",
       "      <td>0</td>\n",
       "      <td>NaN</td>\n",
       "      <td>0</td>\n",
       "      <td>NaN</td>\n",
       "      <td>29</td>\n",
       "      <td>False</td>\n",
       "    </tr>\n",
       "    <tr>\n",
       "      <th>3</th>\n",
       "      <td>2</td>\n",
       "      <td>10006</td>\n",
       "      <td>1874946579</td>\n",
       "      <td>R</td>\n",
       "      <td>CC</td>\n",
       "      <td>61.0</td>\n",
       "      <td>0</td>\n",
       "      <td>0</td>\n",
       "      <td>0</td>\n",
       "      <td>NaN</td>\n",
       "      <td>0</td>\n",
       "      <td>NaN</td>\n",
       "      <td>29</td>\n",
       "      <td>False</td>\n",
       "    </tr>\n",
       "    <tr>\n",
       "      <th>4</th>\n",
       "      <td>2</td>\n",
       "      <td>10011</td>\n",
       "      <td>220375232</td>\n",
       "      <td>L</td>\n",
       "      <td>CC</td>\n",
       "      <td>55.0</td>\n",
       "      <td>0</td>\n",
       "      <td>0</td>\n",
       "      <td>0</td>\n",
       "      <td>0.0</td>\n",
       "      <td>0</td>\n",
       "      <td>NaN</td>\n",
       "      <td>21</td>\n",
       "      <td>True</td>\n",
       "    </tr>\n",
       "  </tbody>\n",
       "</table>\n",
       "</div>"
      ],
      "text/plain": [
       "   site_id  patient_id    image_id laterality view   age  cancer  biopsy  \\\n",
       "0        2       10006   462822612          L   CC  61.0       0       0   \n",
       "1        2       10006  1459541791          L  MLO  61.0       0       0   \n",
       "2        2       10006  1864590858          R  MLO  61.0       0       0   \n",
       "3        2       10006  1874946579          R   CC  61.0       0       0   \n",
       "4        2       10011   220375232          L   CC  55.0       0       0   \n",
       "\n",
       "   invasive  BIRADS  implant density  machine_id  difficult_negative_case  \n",
       "0         0     NaN        0     NaN          29                    False  \n",
       "1         0     NaN        0     NaN          29                    False  \n",
       "2         0     NaN        0     NaN          29                    False  \n",
       "3         0     NaN        0     NaN          29                    False  \n",
       "4         0     0.0        0     NaN          21                     True  "
      ]
     },
     "execution_count": 6,
     "metadata": {},
     "output_type": "execute_result"
    }
   ],
   "source": [
    "df1 = train[train['cancer']==0]\n",
    "print(len(df1))\n",
    "df1.head()"
   ]
  },
  {
   "cell_type": "code",
   "execution_count": 7,
   "id": "6ecb599c-bb68-4bef-a5f4-5fa162e4190f",
   "metadata": {},
   "outputs": [
    {
     "name": "stdout",
     "output_type": "stream",
     "text": [
      "1158\n"
     ]
    },
    {
     "data": {
      "text/html": [
       "<div>\n",
       "<style scoped>\n",
       "    .dataframe tbody tr th:only-of-type {\n",
       "        vertical-align: middle;\n",
       "    }\n",
       "\n",
       "    .dataframe tbody tr th {\n",
       "        vertical-align: top;\n",
       "    }\n",
       "\n",
       "    .dataframe thead th {\n",
       "        text-align: right;\n",
       "    }\n",
       "</style>\n",
       "<table border=\"1\" class=\"dataframe\">\n",
       "  <thead>\n",
       "    <tr style=\"text-align: right;\">\n",
       "      <th></th>\n",
       "      <th>site_id</th>\n",
       "      <th>patient_id</th>\n",
       "      <th>image_id</th>\n",
       "      <th>laterality</th>\n",
       "      <th>view</th>\n",
       "      <th>age</th>\n",
       "      <th>cancer</th>\n",
       "      <th>biopsy</th>\n",
       "      <th>invasive</th>\n",
       "      <th>BIRADS</th>\n",
       "      <th>implant</th>\n",
       "      <th>density</th>\n",
       "      <th>machine_id</th>\n",
       "      <th>difficult_negative_case</th>\n",
       "    </tr>\n",
       "  </thead>\n",
       "  <tbody>\n",
       "    <tr>\n",
       "      <th>87</th>\n",
       "      <td>1</td>\n",
       "      <td>10130</td>\n",
       "      <td>388811999</td>\n",
       "      <td>L</td>\n",
       "      <td>MLO</td>\n",
       "      <td>71.0</td>\n",
       "      <td>1</td>\n",
       "      <td>1</td>\n",
       "      <td>1</td>\n",
       "      <td>0.0</td>\n",
       "      <td>0</td>\n",
       "      <td>B</td>\n",
       "      <td>49</td>\n",
       "      <td>False</td>\n",
       "    </tr>\n",
       "    <tr>\n",
       "      <th>88</th>\n",
       "      <td>1</td>\n",
       "      <td>10130</td>\n",
       "      <td>613462606</td>\n",
       "      <td>L</td>\n",
       "      <td>CC</td>\n",
       "      <td>71.0</td>\n",
       "      <td>1</td>\n",
       "      <td>1</td>\n",
       "      <td>1</td>\n",
       "      <td>0.0</td>\n",
       "      <td>0</td>\n",
       "      <td>B</td>\n",
       "      <td>49</td>\n",
       "      <td>False</td>\n",
       "    </tr>\n",
       "    <tr>\n",
       "      <th>89</th>\n",
       "      <td>1</td>\n",
       "      <td>10130</td>\n",
       "      <td>1360338805</td>\n",
       "      <td>L</td>\n",
       "      <td>CC</td>\n",
       "      <td>71.0</td>\n",
       "      <td>1</td>\n",
       "      <td>1</td>\n",
       "      <td>1</td>\n",
       "      <td>0.0</td>\n",
       "      <td>0</td>\n",
       "      <td>B</td>\n",
       "      <td>49</td>\n",
       "      <td>False</td>\n",
       "    </tr>\n",
       "    <tr>\n",
       "      <th>90</th>\n",
       "      <td>1</td>\n",
       "      <td>10130</td>\n",
       "      <td>1672636630</td>\n",
       "      <td>L</td>\n",
       "      <td>MLO</td>\n",
       "      <td>71.0</td>\n",
       "      <td>1</td>\n",
       "      <td>1</td>\n",
       "      <td>1</td>\n",
       "      <td>0.0</td>\n",
       "      <td>0</td>\n",
       "      <td>B</td>\n",
       "      <td>49</td>\n",
       "      <td>False</td>\n",
       "    </tr>\n",
       "    <tr>\n",
       "      <th>190</th>\n",
       "      <td>1</td>\n",
       "      <td>10226</td>\n",
       "      <td>461614796</td>\n",
       "      <td>L</td>\n",
       "      <td>MLO</td>\n",
       "      <td>71.0</td>\n",
       "      <td>1</td>\n",
       "      <td>1</td>\n",
       "      <td>1</td>\n",
       "      <td>0.0</td>\n",
       "      <td>0</td>\n",
       "      <td>C</td>\n",
       "      <td>49</td>\n",
       "      <td>False</td>\n",
       "    </tr>\n",
       "  </tbody>\n",
       "</table>\n",
       "</div>"
      ],
      "text/plain": [
       "     site_id  patient_id    image_id laterality view   age  cancer  biopsy  \\\n",
       "87         1       10130   388811999          L  MLO  71.0       1       1   \n",
       "88         1       10130   613462606          L   CC  71.0       1       1   \n",
       "89         1       10130  1360338805          L   CC  71.0       1       1   \n",
       "90         1       10130  1672636630          L  MLO  71.0       1       1   \n",
       "190        1       10226   461614796          L  MLO  71.0       1       1   \n",
       "\n",
       "     invasive  BIRADS  implant density  machine_id  difficult_negative_case  \n",
       "87          1     0.0        0       B          49                    False  \n",
       "88          1     0.0        0       B          49                    False  \n",
       "89          1     0.0        0       B          49                    False  \n",
       "90          1     0.0        0       B          49                    False  \n",
       "190         1     0.0        0       C          49                    False  "
      ]
     },
     "execution_count": 7,
     "metadata": {},
     "output_type": "execute_result"
    }
   ],
   "source": [
    "df2 = train[train['cancer']==1]\n",
    "print(len(df2))\n",
    "df2.head()"
   ]
  },
  {
   "cell_type": "code",
   "execution_count": 8,
   "id": "2ea49cbc-8c70-4d8c-870c-5ad6423930c7",
   "metadata": {},
   "outputs": [],
   "source": [
    "healthy_patient_id_list = df1['patient_id'].tolist()\n",
    "cancer_patient_id_list = df2['patient_id'].tolist()\n",
    "\n",
    "# dump a list to the pickle\n",
    "with open ('cancer_list.pickle', 'wb') as pick:\n",
    "    pickle.dump(cancer_patient_id_list, pick)\n",
    "    \n",
    "with open ('healthy_list.pickle', 'wb') as pick:\n",
    "    pickle.dump(healthy_patient_id_list, pick)"
   ]
  },
  {
   "cell_type": "code",
   "execution_count": 10,
   "id": "d4393877-277a-420a-ab77-9418807ea2e0",
   "metadata": {},
   "outputs": [
    {
     "data": {
      "text/plain": [
       "(1158, 53548)"
      ]
     },
     "execution_count": 10,
     "metadata": {},
     "output_type": "execute_result"
    }
   ],
   "source": [
    "len(cancer_patient_id_list), len(healthy_patient_id_list)"
   ]
  },
  {
   "cell_type": "code",
   "execution_count": 11,
   "id": "d0396d83-6448-4688-abe8-4c8df87f37da",
   "metadata": {},
   "outputs": [
    {
     "data": {
      "text/plain": [
       "11907"
      ]
     },
     "execution_count": 11,
     "metadata": {},
     "output_type": "execute_result"
    }
   ],
   "source": [
    "healthy_patient_id_list_clean = list(dict.fromkeys(healthy_patient_id_list))\n",
    "len(healthy_patient_id_list_clean)"
   ]
  },
  {
   "cell_type": "code",
   "execution_count": 12,
   "id": "db250392-1558-4bc4-8c60-9b0c2b97c64d",
   "metadata": {},
   "outputs": [
    {
     "data": {
      "text/plain": [
       "486"
      ]
     },
     "execution_count": 12,
     "metadata": {},
     "output_type": "execute_result"
    }
   ],
   "source": [
    "cancer_patient_id_list_clean = list(dict.fromkeys(cancer_patient_id_list))\n",
    "len(cancer_patient_id_list_clean)"
   ]
  },
  {
   "cell_type": "code",
   "execution_count": 14,
   "id": "d2651a21-7754-4aa1-abed-bb9167b72f3a",
   "metadata": {},
   "outputs": [
    {
     "name": "stderr",
     "output_type": "stream",
     "text": [
      "100%|████████████████████████████████████████████████████████████████████████████████████████████████████████████████████████████████████████████████████████████████████████████████████████████████████████████████████████████████████| 486/486 [00:00<00:00, 621473.09it/s]\n",
      "100%|████████████████████████████████████████████████████████████████████████████████████████████████████████████████████████████████████████████████████████████████████████████████████████████████████████████████████████████████| 11907/11907 [00:00<00:00, 690143.96it/s]\n"
     ]
    }
   ],
   "source": [
    "healthy_paths = []\n",
    "cancer_paths =  []\n",
    "\n",
    "for f in tqdm(glob('rsna-breast-cancer-detection/cancer_paths/*')):\n",
    "    id = f.split('/')[1] # this may change in linux\n",
    "    cancer_paths.append(id)\n",
    "\n",
    "for f in tqdm(glob('rsna-breast-cancer-detection/healthy_paths/*')):\n",
    "    id = f.split('/')[1] # this may change in linux\n",
    "    healthy_paths.append(id)"
   ]
  },
  {
   "cell_type": "code",
   "execution_count": 15,
   "id": "9f3d2f90-db55-4d06-9257-f86cc6588e1f",
   "metadata": {},
   "outputs": [
    {
     "data": {
      "text/plain": [
       "(11907, 486)"
      ]
     },
     "execution_count": 15,
     "metadata": {},
     "output_type": "execute_result"
    }
   ],
   "source": [
    "len(healthy_paths), len(cancer_paths)"
   ]
  },
  {
   "cell_type": "markdown",
   "id": "7a38ae01-50be-4078-873c-15c97b558511",
   "metadata": {},
   "source": [
    "## Data preparation for Tensorflow"
   ]
  },
  {
   "cell_type": "code",
   "execution_count": 16,
   "id": "05b219c9-8830-4909-b2fa-9888f248641a",
   "metadata": {},
   "outputs": [
    {
     "name": "stdout",
     "output_type": "stream",
     "text": [
      "CPU times: user 11h 34min 15s, sys: 1h 17min 27s, total: 12h 51min 43s\n",
      "Wall time: 5h 42min 12s\n"
     ]
    }
   ],
   "source": [
    "%%time\n",
    "\n",
    "X_train = []\n",
    "Y_train = []\n",
    "\n",
    "healthy_paths = 'rsna-breast-cancer-detection/healthy_paths'\n",
    "cancer_paths = 'rsna-breast-cancer-detection/cancer_paths/'\n",
    "\n",
    "filelist_healthy = []\n",
    "filelist_cancer = []\n",
    "\n",
    "for root, dirs, files in os.walk(healthy_paths):\n",
    "\tfor file in files:\n",
    "        #append the file name to the list\n",
    "\t\tfilelist_healthy.append(os.path.join(root,file))\n",
    "\n",
    "for root, dirs, files in os.walk(cancer_paths):\n",
    "\tfor file in files:\n",
    "        #append the file name to the list\n",
    "\t\tfilelist_cancer.append(os.path.join(root,file))\n",
    "        \n",
    "        \n",
    "#print all the file names\n",
    "for name in filelist_healthy:\n",
    "    # print(name)\n",
    "    ds = pydicom.dcmread(name)\n",
    "    pixel_array_numpy = ds.pixel_array\n",
    "    pixel_array_numpy = cv2.resize(pixel_array_numpy, dsize=(256, 256))\n",
    "    \n",
    "    X_train.append(pixel_array_numpy)\n",
    "    Y_train.append(0)\n",
    "    # print(len(X_train))\n",
    "    # plt.imshow(pixel_array_numpy, cmap='gray')\n",
    "    #plt.show()\n",
    "    \n",
    "\n",
    "#print all the file names\n",
    "for name_ in filelist_cancer:\n",
    "    # print(name)\n",
    "    ds = pydicom.dcmread(name_)\n",
    "    pixel_array_numpy = ds.pixel_array\n",
    "    pixel_array_numpy = cv2.resize(pixel_array_numpy, dsize=(256, 256))\n",
    "    \n",
    "    X_train.append(pixel_array_numpy)\n",
    "    Y_train.append(1)\n",
    "    # print(len(X_train))\n",
    "    # plt.imshow(pixel_array_numpy, cmap='gray')\n",
    "    #plt.show()"
   ]
  },
  {
   "cell_type": "code",
   "execution_count": 17,
   "id": "acb94a6a-208f-46fd-b8ad-61b2ba156605",
   "metadata": {},
   "outputs": [],
   "source": [
    "X_train = np.array(X_train)\n",
    "Y_train = np.array(Y_train)\n",
    "\n",
    "# check shape\n",
    "# X_train = np.expand_dims(X_train,-1)\n",
    "# X_train.shape"
   ]
  },
  {
   "cell_type": "code",
   "execution_count": 18,
   "id": "4d1ff949-9758-4a0b-9f37-f22bb05ce1fe",
   "metadata": {},
   "outputs": [
    {
     "data": {
      "text/plain": [
       "((56962, 256, 256), (56962,))"
      ]
     },
     "execution_count": 18,
     "metadata": {},
     "output_type": "execute_result"
    }
   ],
   "source": [
    "X_train.shape,Y_train.shape"
   ]
  },
  {
   "cell_type": "code",
   "execution_count": 19,
   "id": "b7c19404-3c21-4528-be0e-fd3684b5ad08",
   "metadata": {},
   "outputs": [],
   "source": [
    "from numpy import save\n",
    "save('X_train.npy', X_train)\n",
    "save('Y_train.npy', Y_train)"
   ]
  },
  {
   "cell_type": "code",
   "execution_count": 20,
   "id": "a2bc3ba4-a9d9-4e55-ab9c-98ef0072abde",
   "metadata": {},
   "outputs": [],
   "source": [
    "### Tensorflow CNN"
   ]
  },
  {
   "cell_type": "code",
   "execution_count": 21,
   "id": "214a5c21-3ae3-4deb-b9c5-5e6e24e88fea",
   "metadata": {},
   "outputs": [
    {
     "name": "stderr",
     "output_type": "stream",
     "text": [
      "2023-01-02 09:26:20.921378: I tensorflow/core/platform/cpu_feature_guard.cc:193] This TensorFlow binary is optimized with oneAPI Deep Neural Network Library (oneDNN) to use the following CPU instructions in performance-critical operations:  AVX2 FMA\n",
      "To enable them in other operations, rebuild TensorFlow with the appropriate compiler flags.\n",
      "2023-01-02 09:26:39.147246: I tensorflow/core/common_runtime/gpu/gpu_device.cc:1616] Created device /job:localhost/replica:0/task:0/device:GPU:0 with 3105 MB memory:  -> device: 0, name: NVIDIA GeForce GTX 980, pci bus id: 0000:01:00.0, compute capability: 5.2\n"
     ]
    },
    {
     "name": "stdout",
     "output_type": "stream",
     "text": [
      "Model: \"sequential\"\n",
      "_________________________________________________________________\n",
      " Layer (type)                Output Shape              Param #   \n",
      "=================================================================\n",
      " conv2d (Conv2D)             (None, 256, 256, 32)      320       \n",
      "                                                                 \n",
      " max_pooling2d (MaxPooling2D  (None, 128, 128, 32)     0         \n",
      " )                                                               \n",
      "                                                                 \n",
      " conv2d_1 (Conv2D)           (None, 128, 128, 64)      18496     \n",
      "                                                                 \n",
      " max_pooling2d_1 (MaxPooling  (None, 64, 64, 64)       0         \n",
      " 2D)                                                             \n",
      "                                                                 \n",
      " conv2d_2 (Conv2D)           (None, 64, 64, 128)       73856     \n",
      "                                                                 \n",
      " max_pooling2d_2 (MaxPooling  (None, 32, 32, 128)      0         \n",
      " 2D)                                                             \n",
      "                                                                 \n",
      " conv2d_3 (Conv2D)           (None, 32, 32, 256)       295168    \n",
      "                                                                 \n",
      " max_pooling2d_3 (MaxPooling  (None, 16, 16, 256)      0         \n",
      " 2D)                                                             \n",
      "                                                                 \n",
      " dropout (Dropout)           (None, 16, 16, 256)       0         \n",
      "                                                                 \n",
      " flatten (Flatten)           (None, 65536)             0         \n",
      "                                                                 \n",
      " dense (Dense)               (None, 256)               16777472  \n",
      "                                                                 \n",
      " dropout_1 (Dropout)         (None, 256)               0         \n",
      "                                                                 \n",
      " dense_1 (Dense)             (None, 100)               25700     \n",
      "                                                                 \n",
      " dense_2 (Dense)             (None, 50)                5050      \n",
      "                                                                 \n",
      " dense_3 (Dense)             (None, 1)                 51        \n",
      "                                                                 \n",
      "=================================================================\n",
      "Total params: 17,196,113\n",
      "Trainable params: 17,196,113\n",
      "Non-trainable params: 0\n",
      "_________________________________________________________________\n"
     ]
    }
   ],
   "source": [
    "model = Sequential()\n",
    "input_shape = (256, 256, 1)\n",
    "\n",
    "model.add(Conv2D(filters=32, kernel_size = (3,3), strides =1, padding = 'same', activation = 'relu', input_shape = input_shape))\n",
    "model.add(MaxPooling2D(pool_size=(2, 2)))\n",
    "model.add(Conv2D(filters=64, kernel_size = (3,3), strides =1, padding = 'same', activation = 'relu'))\n",
    "model.add(MaxPooling2D(pool_size=(2, 2)))\n",
    "model.add(Conv2D(filters=128, kernel_size = (3,3), strides =1, padding = 'same', activation = 'relu'))\n",
    "model.add(MaxPooling2D(pool_size=(2, 2)))\n",
    "model.add(Conv2D(filters=256, kernel_size = (3,3), strides =1, padding = 'same', activation = 'relu'))\n",
    "model.add(MaxPooling2D(pool_size=(2, 2)))\n",
    "\n",
    "model.add(Dropout(0.13))\n",
    "model.add(Flatten())\n",
    "model.add(Dense(256, activation = 'relu'))\n",
    "model.add(Dropout(0.13))\n",
    "model.add(Dense(100, activation = 'relu'))\n",
    "model.add(Dense(50, activation = 'relu'))\n",
    "model.add(Dense(1 , activation=\"sigmoid\"))\n",
    "model.summary()"
   ]
  },
  {
   "cell_type": "code",
   "execution_count": 22,
   "id": "2cf7ba29-74ee-49b0-8e19-c95a1ea7fef4",
   "metadata": {},
   "outputs": [],
   "source": [
    "def tf_pfbeta(from_logits=True, beta=1.0, epsilon=1e-07):\n",
    "    \n",
    "    def pfbeta(y_true, y_pred):\n",
    "        y_pred = tf.cond(\n",
    "            tf.cast(from_logits, dtype=tf.bool),\n",
    "            lambda: tf.nn.sigmoid(y_pred),\n",
    "            lambda: y_pred,\n",
    "        )\n",
    "        y_true = tf.reshape(y_true, [-1])\n",
    "        y_pred = tf.reshape(y_pred, [-1])\n",
    "\n",
    "        ctp = tf.reduce_sum(y_true * y_pred, axis=-1)\n",
    "        cfp = tf.reduce_sum(y_pred, axis=-1) - ctp\n",
    "\n",
    "        c_precision = ctp / (ctp + cfp)\n",
    "        c_recall = ctp / tf.reduce_sum(y_true)\n",
    "        \n",
    "        def compute_fractions():\n",
    "            numerator = c_precision * c_recall\n",
    "            denominator = beta**2 * c_precision + c_recall\n",
    "            return (1 + beta**2) * tf.math.divide_no_nan(numerator, denominator)\n",
    "        \n",
    "        return tf.cond(\n",
    "            tf.logical_and(\n",
    "                tf.greater(c_precision, 0.), tf.greater(c_recall, 0.)\n",
    "            ),\n",
    "            compute_fractions,\n",
    "            lambda: tf.constant(0, dtype=tf.float32)\n",
    "        )\n",
    "    \n",
    "    return pfbeta\n",
    "\n",
    "def tf_auc(from_logits=True):\n",
    "    auc_fn = metrics.AUC()\n",
    "    \n",
    "    def auc(y_true, y_pred):\n",
    "        y_pred = tf.cond(\n",
    "            tf.cast(from_logits, dtype=tf.bool),\n",
    "            lambda: tf.nn.sigmoid(y_pred),\n",
    "            lambda: y_pred,\n",
    "        )\n",
    "        return auc_fn(y_true, y_pred)\n",
    "    \n",
    "    return auc\n",
    "\n",
    "\n",
    "def weighted_binary_loss(weight, from_logits=True, reduction=\"mean\"):\n",
    "    def inverse_sigmoid(sigmoidal):\n",
    "        return - tf.math.log(1. / sigmoidal - 1.)\n",
    "\n",
    "    def weighted_loss(labels, predictions):\n",
    "        predictions = tf.convert_to_tensor(predictions)\n",
    "        labels = tf.cast(labels, predictions.dtype)\n",
    "        num_samples = tf.cast(tf.shape(labels)[-1], dtype=labels.dtype)\n",
    "\n",
    "        logits = tf.cond(\n",
    "            tf.cast(from_logits, dtype=tf.bool),\n",
    "            lambda: predictions,\n",
    "            lambda: inverse_sigmoid(sigmoidal=predictions),\n",
    "        )\n",
    "        loss = tf.nn.weighted_cross_entropy_with_logits(\n",
    "            tf.cast(labels, dtype=tf.float32), logits, pos_weight=weight\n",
    "        )\n",
    "        \n",
    "        if reduction.lower() == \"mean\":\n",
    "            return tf.reduce_mean(loss)\n",
    "        elif reduction.lower() == \"sum\":\n",
    "            return tf.reduce_sum(loss) / num_samples\n",
    "        elif reduction.lower() == \"none\":\n",
    "            return loss\n",
    "        else:\n",
    "            raise ValueError(\n",
    "                'Reduction type is should be `mean` or `sum` or `none`. ',\n",
    "                f'But, received {reduction}'\n",
    "            )\n",
    "    return weighted_loss\n",
    "\n",
    "def binary_focal_loss(\n",
    "    alpha=0.25, \n",
    "    gamma=2.0, \n",
    "    label_smoothing=0, \n",
    "    from_logits=False,\n",
    "    apply_class_balancing=False,\n",
    "    apply_positive_weight=1,\n",
    "    reduction=\"mean\"\n",
    "):\n",
    "    '''\n",
    "    alpha: A weight balancing factor for class 1, default is 0.25. \n",
    "        The weight for class 0 is 1.0 - alpha.\n",
    "    \n",
    "    gamma: A focusing parameter used to compute the focal factor, default is 2.0\n",
    "    \n",
    "    apply_class_balancing: A bool, whether to apply weight balancing on the binary \n",
    "        classes 0 and 1.\n",
    "    '''\n",
    "    \n",
    "    def smooth_labels(labels):\n",
    "        return labels * (1.0 - label_smoothing) + 0.5 * label_smoothing\n",
    "    \n",
    "    def compute_loss(labels, logits):\n",
    "        logits = tf.convert_to_tensor(logits)\n",
    "        labels = tf.cast(labels, logits.dtype)\n",
    "        labels = tf.cond(\n",
    "            tf.cast(label_smoothing, dtype=tf.bool),\n",
    "            lambda: smooth_labels(labels),\n",
    "            lambda: labels,\n",
    "        )\n",
    "        num_samples = tf.cast(tf.shape(labels)[-1], dtype=labels.dtype)\n",
    "        cross_entropy = weighted_binary_loss(\n",
    "            apply_positive_weight, from_logits, reduction='none'\n",
    "        )(labels, logits)\n",
    "        \n",
    "        sigmoidal = tf.cond(\n",
    "            tf.cast(from_logits, dtype=tf.bool),\n",
    "            lambda: tf.nn.sigmoid(logits),\n",
    "            lambda: logits,\n",
    "        )\n",
    "        pt = labels * sigmoidal + (1.0 - labels) * (1.0 - sigmoidal)\n",
    "        focal_factor = tf.pow(1.0 - pt, gamma)\n",
    "        focal_bce =  focal_factor * cross_entropy\n",
    "        \n",
    "        if apply_class_balancing:\n",
    "            weight = labels * alpha + (1 - labels) * (1 - alpha)\n",
    "            focal_bce = weight * focal_bce\n",
    "\n",
    "        if reduction == 'mean':\n",
    "            return tf.reduce_mean(focal_bce)\n",
    "        elif reduction == 'sum':\n",
    "            return tf.reduce_sum(focal_bce) / num_samples\n",
    "        else:\n",
    "            raise ValueError(\n",
    "                'Reduction type should be `mean` or `sum` ',\n",
    "                f'But, received {reduction}'\n",
    "            )\n",
    "    return compute_loss"
   ]
  },
  {
   "cell_type": "code",
   "execution_count": 23,
   "id": "ebf97195-be92-45d5-a663-4c0559920679",
   "metadata": {},
   "outputs": [
    {
     "name": "stderr",
     "output_type": "stream",
     "text": [
      "/home/twistcode/Downloads/guasukalu/lib/python3.10/site-packages/keras/optimizers/optimizer_v2/adam.py:114: UserWarning: The `lr` argument is deprecated, use `learning_rate` instead.\n",
      "  super().__init__(name, **kwargs)\n"
     ]
    }
   ],
   "source": [
    "model.compile(loss='binary_crossentropy',\n",
    "              \n",
    "            optimizer=Adam(lr=0.001),metrics = [\n",
    "            tf_pfbeta(beta=1.0, from_logits=True),\n",
    "            tf_auc(from_logits=True)\n",
    "        ])"
   ]
  },
  {
   "cell_type": "code",
   "execution_count": 24,
   "id": "d580989b-b410-4514-90c3-01dca819f4e7",
   "metadata": {},
   "outputs": [],
   "source": [
    "from sklearn.model_selection import train_test_split\n",
    "x_train, x_test, y_train, y_test = train_test_split(X_train, Y_train, test_size=0.20, random_state=42)"
   ]
  },
  {
   "cell_type": "code",
   "execution_count": 25,
   "id": "c76d3fbd-b7f8-44e9-808e-4e1482f57546",
   "metadata": {},
   "outputs": [
    {
     "name": "stdout",
     "output_type": "stream",
     "text": [
      "int64\n"
     ]
    }
   ],
   "source": [
    "print(y_train.dtype)"
   ]
  },
  {
   "cell_type": "code",
   "execution_count": 26,
   "id": "ff914c25-62d3-44c3-b88c-bff45a7819ca",
   "metadata": {},
   "outputs": [
    {
     "name": "stderr",
     "output_type": "stream",
     "text": [
      "2023-01-02 09:27:21.317358: W tensorflow/core/framework/cpu_allocator_impl.cc:82] Allocation of 5972819968 exceeds 10% of free system memory.\n",
      "2023-01-02 09:27:33.913950: W tensorflow/core/common_runtime/bfc_allocator.cc:479] Allocator (GPU_0_bfc) ran out of memory trying to allocate 5.56GiB (rounded to 5972819968)requested by op _EagerConst\n",
      "If the cause is memory fragmentation maybe the environment variable 'TF_GPU_ALLOCATOR=cuda_malloc_async' will improve the situation. \n",
      "Current allocation summary follows.\n",
      "Current allocation summary follows.\n",
      "2023-01-02 09:27:33.914000: I tensorflow/core/common_runtime/bfc_allocator.cc:1033] BFCAllocator dump for GPU_0_bfc\n",
      "2023-01-02 09:27:33.914024: I tensorflow/core/common_runtime/bfc_allocator.cc:1040] Bin (256): \tTotal Chunks: 26, Chunks in use: 26. 6.5KiB allocated for chunks. 6.5KiB in use in bin. 880B client-requested in use in bin.\n",
      "2023-01-02 09:27:33.914044: I tensorflow/core/common_runtime/bfc_allocator.cc:1040] Bin (512): \tTotal Chunks: 2, Chunks in use: 2. 1.0KiB allocated for chunks. 1.0KiB in use in bin. 912B client-requested in use in bin.\n",
      "2023-01-02 09:27:33.914062: I tensorflow/core/common_runtime/bfc_allocator.cc:1040] Bin (1024): \tTotal Chunks: 8, Chunks in use: 8. 8.5KiB allocated for chunks. 8.5KiB in use in bin. 7.3KiB client-requested in use in bin.\n",
      "2023-01-02 09:27:33.914078: I tensorflow/core/common_runtime/bfc_allocator.cc:1040] Bin (2048): \tTotal Chunks: 0, Chunks in use: 0. 0B allocated for chunks. 0B in use in bin. 0B client-requested in use in bin.\n",
      "2023-01-02 09:27:33.914094: I tensorflow/core/common_runtime/bfc_allocator.cc:1040] Bin (4096): \tTotal Chunks: 0, Chunks in use: 0. 0B allocated for chunks. 0B in use in bin. 0B client-requested in use in bin.\n",
      "2023-01-02 09:27:33.914109: I tensorflow/core/common_runtime/bfc_allocator.cc:1040] Bin (8192): \tTotal Chunks: 0, Chunks in use: 0. 0B allocated for chunks. 0B in use in bin. 0B client-requested in use in bin.\n",
      "2023-01-02 09:27:33.914129: I tensorflow/core/common_runtime/bfc_allocator.cc:1040] Bin (16384): \tTotal Chunks: 1, Chunks in use: 1. 19.8KiB allocated for chunks. 19.8KiB in use in bin. 19.5KiB client-requested in use in bin.\n",
      "2023-01-02 09:27:33.914145: I tensorflow/core/common_runtime/bfc_allocator.cc:1040] Bin (32768): \tTotal Chunks: 2, Chunks in use: 0. 73.5KiB allocated for chunks. 0B in use in bin. 0B client-requested in use in bin.\n",
      "2023-01-02 09:27:33.914163: I tensorflow/core/common_runtime/bfc_allocator.cc:1040] Bin (65536): \tTotal Chunks: 2, Chunks in use: 2. 172.0KiB allocated for chunks. 172.0KiB in use in bin. 172.0KiB client-requested in use in bin.\n",
      "2023-01-02 09:27:33.914180: I tensorflow/core/common_runtime/bfc_allocator.cc:1040] Bin (131072): \tTotal Chunks: 1, Chunks in use: 0. 141.5KiB allocated for chunks. 0B in use in bin. 0B client-requested in use in bin.\n",
      "2023-01-02 09:27:33.914198: I tensorflow/core/common_runtime/bfc_allocator.cc:1040] Bin (262144): \tTotal Chunks: 2, Chunks in use: 1. 663.8KiB allocated for chunks. 288.0KiB in use in bin. 288.0KiB client-requested in use in bin.\n",
      "2023-01-02 09:27:33.914214: I tensorflow/core/common_runtime/bfc_allocator.cc:1040] Bin (524288): \tTotal Chunks: 0, Chunks in use: 0. 0B allocated for chunks. 0B in use in bin. 0B client-requested in use in bin.\n",
      "2023-01-02 09:27:33.914230: I tensorflow/core/common_runtime/bfc_allocator.cc:1040] Bin (1048576): \tTotal Chunks: 1, Chunks in use: 1. 1.12MiB allocated for chunks. 1.12MiB in use in bin. 1.12MiB client-requested in use in bin.\n",
      "2023-01-02 09:27:33.914246: I tensorflow/core/common_runtime/bfc_allocator.cc:1040] Bin (2097152): \tTotal Chunks: 1, Chunks in use: 0. 2.25MiB allocated for chunks. 0B in use in bin. 0B client-requested in use in bin.\n",
      "2023-01-02 09:27:33.914261: I tensorflow/core/common_runtime/bfc_allocator.cc:1040] Bin (4194304): \tTotal Chunks: 0, Chunks in use: 0. 0B allocated for chunks. 0B in use in bin. 0B client-requested in use in bin.\n",
      "2023-01-02 09:27:33.914276: I tensorflow/core/common_runtime/bfc_allocator.cc:1040] Bin (8388608): \tTotal Chunks: 0, Chunks in use: 0. 0B allocated for chunks. 0B in use in bin. 0B client-requested in use in bin.\n",
      "2023-01-02 09:27:33.914300: I tensorflow/core/common_runtime/bfc_allocator.cc:1040] Bin (16777216): \tTotal Chunks: 0, Chunks in use: 0. 0B allocated for chunks. 0B in use in bin. 0B client-requested in use in bin.\n",
      "2023-01-02 09:27:33.914313: I tensorflow/core/common_runtime/bfc_allocator.cc:1040] Bin (33554432): \tTotal Chunks: 0, Chunks in use: 0. 0B allocated for chunks. 0B in use in bin. 0B client-requested in use in bin.\n",
      "2023-01-02 09:27:33.914320: I tensorflow/core/common_runtime/bfc_allocator.cc:1040] Bin (67108864): \tTotal Chunks: 1, Chunks in use: 1. 64.00MiB allocated for chunks. 64.00MiB in use in bin. 64.00MiB client-requested in use in bin.\n",
      "2023-01-02 09:27:33.914325: I tensorflow/core/common_runtime/bfc_allocator.cc:1040] Bin (134217728): \tTotal Chunks: 1, Chunks in use: 0. 128.00MiB allocated for chunks. 0B in use in bin. 0B client-requested in use in bin.\n",
      "2023-01-02 09:27:33.914330: I tensorflow/core/common_runtime/bfc_allocator.cc:1040] Bin (268435456): \tTotal Chunks: 1, Chunks in use: 0. 2.84GiB allocated for chunks. 0B in use in bin. 0B client-requested in use in bin.\n",
      "2023-01-02 09:27:33.914336: I tensorflow/core/common_runtime/bfc_allocator.cc:1056] Bin for 5.56GiB was 256.00MiB, Chunk State: \n",
      "2023-01-02 09:27:33.914347: I tensorflow/core/common_runtime/bfc_allocator.cc:1062]   Size: 2.84GiB | Requested Size: 0B | in_use: 0 | bin_num: 20, prev:   Size: 64.00MiB | Requested Size: 64.00MiB | in_use: 1 | bin_num: -1\n",
      "2023-01-02 09:27:33.914352: I tensorflow/core/common_runtime/bfc_allocator.cc:1069] Next region of size 3256745984\n",
      "2023-01-02 09:27:34.002320: I tensorflow/core/common_runtime/bfc_allocator.cc:1089] InUse at 1f04dc0000 of size 256 next 1\n",
      "2023-01-02 09:27:34.002355: I tensorflow/core/common_runtime/bfc_allocator.cc:1089] InUse at 1f04dc0100 of size 1280 next 2\n",
      "2023-01-02 09:27:34.002368: I tensorflow/core/common_runtime/bfc_allocator.cc:1089] InUse at 1f04dc0600 of size 256 next 3\n",
      "2023-01-02 09:27:34.002379: I tensorflow/core/common_runtime/bfc_allocator.cc:1089] InUse at 1f04dc0700 of size 256 next 4\n",
      "2023-01-02 09:27:34.002390: I tensorflow/core/common_runtime/bfc_allocator.cc:1089] InUse at 1f04dc0800 of size 256 next 6\n",
      "2023-01-02 09:27:34.002401: I tensorflow/core/common_runtime/bfc_allocator.cc:1089] InUse at 1f04dc0900 of size 256 next 7\n",
      "2023-01-02 09:27:34.002412: I tensorflow/core/common_runtime/bfc_allocator.cc:1089] InUse at 1f04dc0a00 of size 256 next 5\n",
      "2023-01-02 09:27:34.002422: I tensorflow/core/common_runtime/bfc_allocator.cc:1089] InUse at 1f04dc0b00 of size 256 next 8\n",
      "2023-01-02 09:27:34.002433: I tensorflow/core/common_runtime/bfc_allocator.cc:1089] InUse at 1f04dc0c00 of size 256 next 13\n",
      "2023-01-02 09:27:34.002444: I tensorflow/core/common_runtime/bfc_allocator.cc:1089] InUse at 1f04dc0d00 of size 256 next 11\n",
      "2023-01-02 09:27:34.002455: I tensorflow/core/common_runtime/bfc_allocator.cc:1089] InUse at 1f04dc0e00 of size 256 next 12\n",
      "2023-01-02 09:27:34.002467: I tensorflow/core/common_runtime/bfc_allocator.cc:1089] InUse at 1f04dc0f00 of size 512 next 18\n",
      "2023-01-02 09:27:34.002478: I tensorflow/core/common_runtime/bfc_allocator.cc:1089] InUse at 1f04dc1100 of size 256 next 16\n",
      "2023-01-02 09:27:34.002489: I tensorflow/core/common_runtime/bfc_allocator.cc:1089] InUse at 1f04dc1200 of size 256 next 17\n",
      "2023-01-02 09:27:34.002500: I tensorflow/core/common_runtime/bfc_allocator.cc:1089] InUse at 1f04dc1300 of size 256 next 21\n",
      "2023-01-02 09:27:34.002511: I tensorflow/core/common_runtime/bfc_allocator.cc:1089] InUse at 1f04dc1400 of size 256 next 9\n",
      "2023-01-02 09:27:34.002522: I tensorflow/core/common_runtime/bfc_allocator.cc:1089] InUse at 1f04dc1500 of size 1280 next 10\n",
      "2023-01-02 09:27:34.002535: I tensorflow/core/common_runtime/bfc_allocator.cc:1089] InUse at 1f04dc1a00 of size 1024 next 22\n",
      "2023-01-02 09:27:34.002547: I tensorflow/core/common_runtime/bfc_allocator.cc:1089] InUse at 1f04dc1e00 of size 1024 next 27\n",
      "2023-01-02 09:27:34.002558: I tensorflow/core/common_runtime/bfc_allocator.cc:1089] InUse at 1f04dc2200 of size 256 next 25\n",
      "2023-01-02 09:27:34.002569: I tensorflow/core/common_runtime/bfc_allocator.cc:1089] InUse at 1f04dc2300 of size 256 next 26\n",
      "2023-01-02 09:27:34.002582: I tensorflow/core/common_runtime/bfc_allocator.cc:1089] Free  at 1f04dc2400 of size 144896 next 15\n",
      "2023-01-02 09:27:34.002594: I tensorflow/core/common_runtime/bfc_allocator.cc:1089] InUse at 1f04de5a00 of size 73728 next 14\n",
      "2023-01-02 09:27:34.002605: I tensorflow/core/common_runtime/bfc_allocator.cc:1089] InUse at 1f04df7a00 of size 512 next 31\n",
      "2023-01-02 09:27:34.002624: I tensorflow/core/common_runtime/bfc_allocator.cc:1089] InUse at 1f04df7c00 of size 256 next 30\n",
      "2023-01-02 09:27:34.002628: I tensorflow/core/common_runtime/bfc_allocator.cc:1089] InUse at 1f04df7d00 of size 256 next 32\n",
      "2023-01-02 09:27:34.002633: I tensorflow/core/common_runtime/bfc_allocator.cc:1089] Free  at 1f04df7e00 of size 41216 next 39\n",
      "2023-01-02 09:27:34.002637: I tensorflow/core/common_runtime/bfc_allocator.cc:1089] InUse at 1f04e01f00 of size 20224 next 40\n",
      "2023-01-02 09:27:34.002642: I tensorflow/core/common_runtime/bfc_allocator.cc:1089] InUse at 1f04e06e00 of size 256 next 36\n",
      "2023-01-02 09:27:34.002646: I tensorflow/core/common_runtime/bfc_allocator.cc:1089] InUse at 1f04e06f00 of size 256 next 37\n",
      "2023-01-02 09:27:34.002650: I tensorflow/core/common_runtime/bfc_allocator.cc:1089] InUse at 1f04e07000 of size 256 next 35\n",
      "2023-01-02 09:27:34.002654: I tensorflow/core/common_runtime/bfc_allocator.cc:1089] InUse at 1f04e07100 of size 256 next 41\n",
      "2023-01-02 09:27:34.002659: I tensorflow/core/common_runtime/bfc_allocator.cc:1089] InUse at 1f04e07200 of size 256 next 47\n",
      "2023-01-02 09:27:34.002663: I tensorflow/core/common_runtime/bfc_allocator.cc:1089] InUse at 1f04e07300 of size 256 next 42\n",
      "2023-01-02 09:27:34.002667: I tensorflow/core/common_runtime/bfc_allocator.cc:1089] InUse at 1f04e07400 of size 256 next 43\n",
      "2023-01-02 09:27:34.002671: I tensorflow/core/common_runtime/bfc_allocator.cc:1089] InUse at 1f04e07500 of size 1024 next 38\n",
      "2023-01-02 09:27:34.002675: I tensorflow/core/common_runtime/bfc_allocator.cc:1089] InUse at 1f04e07900 of size 1024 next 44\n",
      "2023-01-02 09:27:34.002680: I tensorflow/core/common_runtime/bfc_allocator.cc:1089] InUse at 1f04e07d00 of size 1024 next 45\n",
      "2023-01-02 09:27:34.002684: I tensorflow/core/common_runtime/bfc_allocator.cc:1089] InUse at 1f04e08100 of size 1024 next 46\n",
      "2023-01-02 09:27:34.002688: I tensorflow/core/common_runtime/bfc_allocator.cc:1089] InUse at 1f04e08500 of size 256 next 48\n",
      "2023-01-02 09:27:34.002692: I tensorflow/core/common_runtime/bfc_allocator.cc:1089] Free  at 1f04e08600 of size 34048 next 33\n",
      "2023-01-02 09:27:34.002697: I tensorflow/core/common_runtime/bfc_allocator.cc:1089] InUse at 1f04e10b00 of size 102400 next 34\n",
      "2023-01-02 09:27:34.002701: I tensorflow/core/common_runtime/bfc_allocator.cc:1089] Free  at 1f04e29b00 of size 384768 next 20\n",
      "2023-01-02 09:27:34.002705: I tensorflow/core/common_runtime/bfc_allocator.cc:1089] InUse at 1f04e87a00 of size 294912 next 19\n",
      "2023-01-02 09:27:34.002709: I tensorflow/core/common_runtime/bfc_allocator.cc:1089] Free  at 1f04ecfa00 of size 2359296 next 24\n",
      "2023-01-02 09:27:34.002714: I tensorflow/core/common_runtime/bfc_allocator.cc:1089] InUse at 1f0510fa00 of size 1179648 next 23\n",
      "2023-01-02 09:27:34.002719: I tensorflow/core/common_runtime/bfc_allocator.cc:1089] Free  at 1f0522fa00 of size 134217728 next 29\n",
      "2023-01-02 09:27:34.002723: I tensorflow/core/common_runtime/bfc_allocator.cc:1089] InUse at 1f0d22fa00 of size 67108864 next 28\n",
      "2023-01-02 09:27:34.002727: I tensorflow/core/common_runtime/bfc_allocator.cc:1089] Free  at 1f1122fa00 of size 3050767872 next 18446744073709551615\n",
      "2023-01-02 09:27:34.002732: I tensorflow/core/common_runtime/bfc_allocator.cc:1094]      Summary of in-use Chunks by size: \n",
      "2023-01-02 09:27:34.002740: I tensorflow/core/common_runtime/bfc_allocator.cc:1097] 26 Chunks of size 256 totalling 6.5KiB\n",
      "2023-01-02 09:27:34.002746: I tensorflow/core/common_runtime/bfc_allocator.cc:1097] 2 Chunks of size 512 totalling 1.0KiB\n",
      "2023-01-02 09:27:34.002751: I tensorflow/core/common_runtime/bfc_allocator.cc:1097] 6 Chunks of size 1024 totalling 6.0KiB\n",
      "2023-01-02 09:27:34.002756: I tensorflow/core/common_runtime/bfc_allocator.cc:1097] 2 Chunks of size 1280 totalling 2.5KiB\n",
      "2023-01-02 09:27:34.002762: I tensorflow/core/common_runtime/bfc_allocator.cc:1097] 1 Chunks of size 20224 totalling 19.8KiB\n",
      "2023-01-02 09:27:34.002767: I tensorflow/core/common_runtime/bfc_allocator.cc:1097] 1 Chunks of size 73728 totalling 72.0KiB\n",
      "2023-01-02 09:27:34.002772: I tensorflow/core/common_runtime/bfc_allocator.cc:1097] 1 Chunks of size 102400 totalling 100.0KiB\n",
      "2023-01-02 09:27:34.002776: I tensorflow/core/common_runtime/bfc_allocator.cc:1097] 1 Chunks of size 294912 totalling 288.0KiB\n",
      "2023-01-02 09:27:34.002781: I tensorflow/core/common_runtime/bfc_allocator.cc:1097] 1 Chunks of size 1179648 totalling 1.12MiB\n",
      "2023-01-02 09:27:34.002786: I tensorflow/core/common_runtime/bfc_allocator.cc:1097] 1 Chunks of size 67108864 totalling 64.00MiB\n",
      "2023-01-02 09:27:34.002791: I tensorflow/core/common_runtime/bfc_allocator.cc:1101] Sum Total of in-use chunks: 65.61MiB\n",
      "2023-01-02 09:27:34.002795: I tensorflow/core/common_runtime/bfc_allocator.cc:1103] total_region_allocated_bytes_: 3256745984 memory_limit_: 3256745984 available bytes: 0 curr_region_allocation_bytes_: 6513491968\n",
      "2023-01-02 09:27:34.007992: I tensorflow/core/common_runtime/bfc_allocator.cc:1109] Stats: \n",
      "Limit:                      3256745984\n",
      "InUse:                        68796160\n",
      "MaxInUse:                    202883072\n",
      "NumAllocs:                          82\n",
      "MaxAllocSize:                 67108864\n",
      "Reserved:                            0\n",
      "PeakReserved:                        0\n",
      "LargestFreeBlock:                    0\n",
      "\n",
      "2023-01-02 09:27:34.008025: W tensorflow/core/common_runtime/bfc_allocator.cc:491] *___***_____________________________________________________________________________________________\n"
     ]
    },
    {
     "ename": "InternalError",
     "evalue": "Failed copying input tensor from /job:localhost/replica:0/task:0/device:CPU:0 to /job:localhost/replica:0/task:0/device:GPU:0 in order to run _EagerConst: Dst tensor is not initialized.",
     "output_type": "error",
     "traceback": [
      "\u001b[0;31m---------------------------------------------------------------------------\u001b[0m",
      "\u001b[0;31mInternalError\u001b[0m                             Traceback (most recent call last)",
      "File \u001b[0;32m<timed exec>:1\u001b[0m\n",
      "File \u001b[0;32m~/Downloads/guasukalu/lib/python3.10/site-packages/keras/utils/traceback_utils.py:70\u001b[0m, in \u001b[0;36mfilter_traceback.<locals>.error_handler\u001b[0;34m(*args, **kwargs)\u001b[0m\n\u001b[1;32m     67\u001b[0m     filtered_tb \u001b[38;5;241m=\u001b[39m _process_traceback_frames(e\u001b[38;5;241m.\u001b[39m__traceback__)\n\u001b[1;32m     68\u001b[0m     \u001b[38;5;66;03m# To get the full stack trace, call:\u001b[39;00m\n\u001b[1;32m     69\u001b[0m     \u001b[38;5;66;03m# `tf.debugging.disable_traceback_filtering()`\u001b[39;00m\n\u001b[0;32m---> 70\u001b[0m     \u001b[38;5;28;01mraise\u001b[39;00m e\u001b[38;5;241m.\u001b[39mwith_traceback(filtered_tb) \u001b[38;5;28;01mfrom\u001b[39;00m \u001b[38;5;28mNone\u001b[39m\n\u001b[1;32m     71\u001b[0m \u001b[38;5;28;01mfinally\u001b[39;00m:\n\u001b[1;32m     72\u001b[0m     \u001b[38;5;28;01mdel\u001b[39;00m filtered_tb\n",
      "File \u001b[0;32m~/Downloads/guasukalu/lib/python3.10/site-packages/tensorflow/python/framework/constant_op.py:102\u001b[0m, in \u001b[0;36mconvert_to_eager_tensor\u001b[0;34m(value, ctx, dtype)\u001b[0m\n\u001b[1;32m    100\u001b[0m     dtype \u001b[38;5;241m=\u001b[39m dtypes\u001b[38;5;241m.\u001b[39mas_dtype(dtype)\u001b[38;5;241m.\u001b[39mas_datatype_enum\n\u001b[1;32m    101\u001b[0m ctx\u001b[38;5;241m.\u001b[39mensure_initialized()\n\u001b[0;32m--> 102\u001b[0m \u001b[38;5;28;01mreturn\u001b[39;00m \u001b[43mops\u001b[49m\u001b[38;5;241;43m.\u001b[39;49m\u001b[43mEagerTensor\u001b[49m\u001b[43m(\u001b[49m\u001b[43mvalue\u001b[49m\u001b[43m,\u001b[49m\u001b[43m \u001b[49m\u001b[43mctx\u001b[49m\u001b[38;5;241;43m.\u001b[39;49m\u001b[43mdevice_name\u001b[49m\u001b[43m,\u001b[49m\u001b[43m \u001b[49m\u001b[43mdtype\u001b[49m\u001b[43m)\u001b[49m\n",
      "\u001b[0;31mInternalError\u001b[0m: Failed copying input tensor from /job:localhost/replica:0/task:0/device:CPU:0 to /job:localhost/replica:0/task:0/device:GPU:0 in order to run _EagerConst: Dst tensor is not initialized."
     ]
    }
   ],
   "source": [
    "%time history = model.fit(x_train, y_train, validation_data=(x_test,y_test), epochs=100, batch_size=64)"
   ]
  },
  {
   "cell_type": "code",
   "execution_count": 18,
   "id": "9608a986-605f-49e7-acd8-fcc3ec9881dc",
   "metadata": {},
   "outputs": [
    {
     "name": "stdout",
     "output_type": "stream",
     "text": [
      "Model Saved!\n"
     ]
    }
   ],
   "source": [
    "# save model\n",
    "model.save('rsna_100_tetek.h5')\n",
    "print('Model Saved!')"
   ]
  },
  {
   "cell_type": "markdown",
   "id": "e82b933b-5da4-4ce1-b749-a728c22154a3",
   "metadata": {},
   "source": [
    "## Tensorflow Training Result"
   ]
  },
  {
   "cell_type": "code",
   "execution_count": 19,
   "id": "eb008933-bd77-4075-86fc-5441a4d2f9bd",
   "metadata": {},
   "outputs": [
    {
     "name": "stdout",
     "output_type": "stream",
     "text": [
      "6/6 [==============================] - 1s 91ms/step - loss: 1.2595 - pfbeta: 0.5685 - auc: 0.8846\n"
     ]
    },
    {
     "data": {
      "text/plain": [
       "[1.259546160697937, 0.5684840083122253, 0.8846395611763]"
      ]
     },
     "execution_count": 19,
     "metadata": {},
     "output_type": "execute_result"
    }
   ],
   "source": [
    "model.evaluate(x_test,y_test)"
   ]
  },
  {
   "cell_type": "code",
   "execution_count": null,
   "id": "6dc8643f-a4a0-4cdc-927d-b0f3b327f586",
   "metadata": {},
   "outputs": [],
   "source": []
  },
  {
   "cell_type": "code",
   "execution_count": 20,
   "id": "3496d372-9b17-4e93-8d51-ca44b756f393",
   "metadata": {},
   "outputs": [
    {
     "name": "stdout",
     "output_type": "stream",
     "text": [
      "1/1 [==============================] - 0s 209ms/step\n",
      "[[0.7050069]]\n"
     ]
    },
    {
     "data": {
      "text/plain": [
       "1"
      ]
     },
     "execution_count": 20,
     "metadata": {},
     "output_type": "execute_result"
    },
    {
     "data": {
      "image/png": "[encoded data removed]",
      "text/plain": [
       "<Figure size 640x480 with 1 Axes>"
      ]
     },
     "metadata": {},
     "output_type": "display_data"
    }
   ],
   "source": [
    "index = 50\n",
    "print(model.predict(np.expand_dims(x_test[index],0)))\n",
    "plt.imshow(x_train[index], cmap='gray')\n",
    "y_test[index]"
   ]
  },
  {
   "cell_type": "code",
   "execution_count": 21,
   "id": "d8cb2835-c691-489a-9550-f12c07ee778f",
   "metadata": {},
   "outputs": [],
   "source": [
    "# def preprocess(file_path):\n",
    "#     ds = pydicom.dcmread(i)\n",
    "#     pixel_array_numpy = ds.pixel_array\n",
    "#     pixel_array_numpy = cv2.resize(pixel_array_numpy, dsize=(256, 256))\n",
    "#     pixel_array_numpy = np.expand_dims(pixel_array_numpy,-1)\n",
    "#     return pixel_array_numpy "
   ]
  },
  {
   "cell_type": "code",
   "execution_count": 22,
   "id": "8e46b366-9744-4eb6-984c-891c14d04250",
   "metadata": {},
   "outputs": [],
   "source": [
    "# test = []\n",
    "\n",
    "# for i in glob('/kaggle/input/rsna-breast-cancer-detection/test_images/10008/*'):\n",
    "#             output = preprocess(i)\n",
    "#             test.append(output)\n",
    "# test = np.array(test)\n",
    "# test.shape"
   ]
  },
  {
   "cell_type": "code",
   "execution_count": 23,
   "id": "6a46077f-e8e6-4170-b8b9-7c9fd7045989",
   "metadata": {},
   "outputs": [],
   "source": [
    "# preds = model.predict(test)\n",
    "# preds"
   ]
  },
  {
   "cell_type": "markdown",
   "id": "5af7add0-406d-47ee-845e-046aa08d9c4d",
   "metadata": {},
   "source": [
    "## Reference\n",
    "\n",
    "1. https://www.kaggle.com/code/ahmedhossam666/rsna-breast\n",
    "2. https://www.kaggle.com/code/javigallego/rsna-complete-eda-external-data"
   ]
  }
 ],
 "metadata": {
  "kernelspec": {
   "display_name": "Python 3 (ipykernel)",
   "language": "python",
   "name": "python3"
  },
  "language_info": {
   "codemirror_mode": {
    "name": "ipython",
    "version": 3
   },
   "file_extension": ".py",
   "mimetype": "text/x-python",
   "name": "python",
   "nbconvert_exporter": "python",
   "pygments_lexer": "ipython3",
   "version": "3.10.6"
  }
 },
 "nbformat": 4,
 "nbformat_minor": 5
}

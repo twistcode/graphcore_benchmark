{
 "cells": [
  {
   "cell_type": "code",
   "execution_count": 1,
   "id": "735926c4-52f4-49b6-9166-6b4a02583448",
   "metadata": {},
   "outputs": [
    {
     "name": "stderr",
     "output_type": "stream",
     "text": [
      "2023-01-02 23:59:29.969271: I tensorflow/core/platform/cpu_feature_guard.cc:193] This TensorFlow binary is optimized with oneAPI Deep Neural Network Library (oneDNN) to use the following CPU instructions in performance-critical operations:  AVX2 FMA\n",
      "To enable them in other operations, rebuild TensorFlow with the appropriate compiler flags.\n",
      "2023-01-02 23:59:30.103242: E tensorflow/stream_executor/cuda/cuda_blas.cc:2981] Unable to register cuBLAS factory: Attempting to register factory for plugin cuBLAS when one has already been registered\n",
      "2023-01-02 23:59:30.584644: W tensorflow/stream_executor/platform/default/dso_loader.cc:64] Could not load dynamic library 'libnvinfer.so.7'; dlerror: libnvinfer.so.7: cannot open shared object file: No such file or directory; LD_LIBRARY_PATH: /usr/local/cuda-11.2/lib64\n",
      "2023-01-02 23:59:30.584701: W tensorflow/stream_executor/platform/default/dso_loader.cc:64] Could not load dynamic library 'libnvinfer_plugin.so.7'; dlerror: libnvinfer_plugin.so.7: cannot open shared object file: No such file or directory; LD_LIBRARY_PATH: /usr/local/cuda-11.2/lib64\n",
      "2023-01-02 23:59:30.584708: W tensorflow/compiler/tf2tensorrt/utils/py_utils.cc:38] TF-TRT Warning: Cannot dlopen some TensorRT libraries. If you would like to use Nvidia GPU with TensorRT, please make sure the missing libraries mentioned above are installed properly.\n"
     ]
    }
   ],
   "source": [
    "from numpy import load\n",
    "import numpy as np\n",
    "import os\n",
    "import random\n",
    "import time\n",
    "\n",
    "import tensorflow as tf\n",
    "from tensorflow import keras\n",
    "from tensorflow.keras.models import Sequential\n",
    "from tensorflow.keras.layers import BatchNormalization\n",
    "from tensorflow.keras.layers import SeparableConv2D\n",
    "from tensorflow.keras.layers import MaxPooling2D\n",
    "from tensorflow.keras.layers import Conv2D\n",
    "from tensorflow.keras.layers import Activation\n",
    "from tensorflow.keras.layers import Flatten\n",
    "from tensorflow.keras.layers import Dropout\n",
    "from tensorflow.keras.layers import Dense\n",
    "from keras import metrics\n",
    "from tensorflow.keras.optimizers import Adam\n",
    "from tensorflow import keras\n",
    "from tensorflow.keras.callbacks import ModelCheckpoint\n",
    "\n",
    "from sklearn.model_selection import train_test_split\n",
    "\n",
    "import matplotlib.pyplot as plt\n",
    "import logging\n",
    "import platform\n",
    "\n",
    "# ensure reproducibility.\n",
    "seed=9397\n",
    "os.environ['PYTHONHASHSEED'] = str(seed)\n",
    "random.seed(seed)\n",
    "tf.random.set_seed(seed)\n",
    "np.random.seed(seed)"
   ]
  },
  {
   "cell_type": "code",
   "execution_count": 2,
   "id": "43a99f23-2a93-4264-867a-560060f664f5",
   "metadata": {},
   "outputs": [],
   "source": [
    "# for logging\n",
    "# let's try to move away from print\n",
    "logging.basicConfig(level=logging.INFO)\n",
    "logger = logging.getLogger(__name__)"
   ]
  },
  {
   "cell_type": "code",
   "execution_count": 3,
   "id": "61efaf05-efbf-4033-9138-c0750b789d4c",
   "metadata": {},
   "outputs": [
    {
     "name": "stderr",
     "output_type": "stream",
     "text": [
      "INFO:__main__:1 Physical GPUs, 1 Logical GPUs\n",
      "2023-01-02 23:59:32.012817: I tensorflow/core/platform/cpu_feature_guard.cc:193] This TensorFlow binary is optimized with oneAPI Deep Neural Network Library (oneDNN) to use the following CPU instructions in performance-critical operations:  AVX2 FMA\n",
      "To enable them in other operations, rebuild TensorFlow with the appropriate compiler flags.\n",
      "2023-01-02 23:59:32.482898: I tensorflow/core/common_runtime/gpu/gpu_device.cc:1616] Created device /job:localhost/replica:0/task:0/device:GPU:0 with 10180 MB memory:  -> device: 0, name: NVIDIA GeForce GTX 1080 Ti, pci bus id: 0000:01:00.0, compute capability: 6.1\n"
     ]
    }
   ],
   "source": [
    "# limiting gpu memory, to allow bigger batch size\n",
    "gpus = tf.config.experimental.list_physical_devices('GPU')\n",
    "\n",
    "if gpus:\n",
    "    try:\n",
    "        for gpu in gpus:\n",
    "            tf.config.experimental.set_memory_growth(gpu, True)\n",
    "\n",
    "        logical_gpus = tf.config.experimental.list_logical_devices('GPU')\n",
    "        logger.info(\"%s Physical GPUs, %s Logical GPUs\", len(gpus), len(logical_gpus))\n",
    "\n",
    "    except RuntimeError as e:\n",
    "        # Memory growth must be set before GPUs have been initialized\n",
    "        logger.error('You got error = > %s', e)\n",
    "        logger.warning('Something is wrong with the configuration !')"
   ]
  },
  {
   "cell_type": "code",
   "execution_count": 4,
   "id": "b67beff4-bda5-4f27-87d4-9cb048fd22b9",
   "metadata": {},
   "outputs": [
    {
     "name": "stderr",
     "output_type": "stream",
     "text": [
      "INFO:__main__: Done loading data array !\n",
      "INFO:__main__:(56962, 256, 256) Training array size, (56962,) Training label array size\n"
     ]
    }
   ],
   "source": [
    "# load dict of arrays dataset\n",
    "X_train = load('X_train.npy')\n",
    "Y_train = load('Y_train.npy')\n",
    "\n",
    "logger.info(\" Done loading data array !\")\n",
    "\n",
    "X_train.shape,Y_train.shape\n",
    "logger.info(\"%s Training array size, %s Training label array size\", X_train.shape, Y_train.shape)"
   ]
  },
  {
   "cell_type": "code",
   "execution_count": 5,
   "id": "693dc3e0-d1ee-492c-8c20-cc425f04c65d",
   "metadata": {},
   "outputs": [
    {
     "name": "stderr",
     "output_type": "stream",
     "text": [
      "INFO:__main__: check training array shape, (56962, 256, 256, 1) \n"
     ]
    }
   ],
   "source": [
    "# check shape\n",
    "X_train = np.expand_dims(X_train,-1)\n",
    "logger.info(\" check training array shape, %s \", X_train.shape)"
   ]
  },
  {
   "cell_type": "code",
   "execution_count": 6,
   "id": "6dea3990-8e7e-4aa0-bb1d-6375f10da9f3",
   "metadata": {},
   "outputs": [],
   "source": [
    "def tf_pfbeta(from_logits=True, beta=1.0, epsilon=1e-07):\n",
    "    \n",
    "    def pfbeta(y_true, y_pred):\n",
    "        y_pred = tf.cond(\n",
    "            tf.cast(from_logits, dtype=tf.bool),\n",
    "            lambda: tf.nn.sigmoid(y_pred),\n",
    "            lambda: y_pred,\n",
    "        )\n",
    "        y_true = tf.reshape(y_true, [-1])\n",
    "        y_pred = tf.reshape(y_pred, [-1])\n",
    "\n",
    "        ctp = tf.reduce_sum(y_true * y_pred, axis=-1)\n",
    "        cfp = tf.reduce_sum(y_pred, axis=-1) - ctp\n",
    "\n",
    "        c_precision = ctp / (ctp + cfp)\n",
    "        c_recall = ctp / tf.reduce_sum(y_true)\n",
    "        \n",
    "        def compute_fractions():\n",
    "            numerator = c_precision * c_recall\n",
    "            denominator = beta**2 * c_precision + c_recall\n",
    "            return (1 + beta**2) * tf.math.divide_no_nan(numerator, denominator)\n",
    "        \n",
    "        return tf.cond(\n",
    "            tf.logical_and(\n",
    "                tf.greater(c_precision, 0.), tf.greater(c_recall, 0.)\n",
    "            ),\n",
    "            compute_fractions,\n",
    "            lambda: tf.constant(0, dtype=tf.float32)\n",
    "        )\n",
    "    \n",
    "    return pfbeta\n",
    "\n",
    "def tf_auc(from_logits=True):\n",
    "    auc_fn = metrics.AUC()\n",
    "    \n",
    "    def auc(y_true, y_pred):\n",
    "        y_pred = tf.cond(\n",
    "            tf.cast(from_logits, dtype=tf.bool),\n",
    "            lambda: tf.nn.sigmoid(y_pred),\n",
    "            lambda: y_pred,\n",
    "        )\n",
    "        return auc_fn(y_true, y_pred)\n",
    "    \n",
    "    return auc\n",
    "\n",
    "\n",
    "def weighted_binary_loss(weight, from_logits=True, reduction=\"mean\"):\n",
    "    def inverse_sigmoid(sigmoidal):\n",
    "        return - tf.math.log(1. / sigmoidal - 1.)\n",
    "\n",
    "    def weighted_loss(labels, predictions):\n",
    "        predictions = tf.convert_to_tensor(predictions)\n",
    "        labels = tf.cast(labels, predictions.dtype)\n",
    "        num_samples = tf.cast(tf.shape(labels)[-1], dtype=labels.dtype)\n",
    "\n",
    "        logits = tf.cond(\n",
    "            tf.cast(from_logits, dtype=tf.bool),\n",
    "            lambda: predictions,\n",
    "            lambda: inverse_sigmoid(sigmoidal=predictions),\n",
    "        )\n",
    "        loss = tf.nn.weighted_cross_entropy_with_logits(\n",
    "            tf.cast(labels, dtype=tf.float32), logits, pos_weight=weight\n",
    "        )\n",
    "        \n",
    "        if reduction.lower() == \"mean\":\n",
    "            return tf.reduce_mean(loss)\n",
    "        elif reduction.lower() == \"sum\":\n",
    "            return tf.reduce_sum(loss) / num_samples\n",
    "        elif reduction.lower() == \"none\":\n",
    "            return loss\n",
    "        else:\n",
    "            raise ValueError(\n",
    "                'Reduction type is should be `mean` or `sum` or `none`. ',\n",
    "                f'But, received {reduction}'\n",
    "            )\n",
    "    return weighted_loss\n",
    "\n",
    "def binary_focal_loss(\n",
    "    alpha=0.25, \n",
    "    gamma=2.0, \n",
    "    label_smoothing=0, \n",
    "    from_logits=False,\n",
    "    apply_class_balancing=False,\n",
    "    apply_positive_weight=1,\n",
    "    reduction=\"mean\"\n",
    "):\n",
    "    '''\n",
    "    alpha: A weight balancing factor for class 1, default is 0.25. \n",
    "        The weight for class 0 is 1.0 - alpha.\n",
    "    \n",
    "    gamma: A focusing parameter used to compute the focal factor, default is 2.0\n",
    "    \n",
    "    apply_class_balancing: A bool, whether to apply weight balancing on the binary \n",
    "        classes 0 and 1.\n",
    "    '''\n",
    "    \n",
    "    def smooth_labels(labels):\n",
    "        return labels * (1.0 - label_smoothing) + 0.5 * label_smoothing\n",
    "    \n",
    "    def compute_loss(labels, logits):\n",
    "        logits = tf.convert_to_tensor(logits)\n",
    "        labels = tf.cast(labels, logits.dtype)\n",
    "        labels = tf.cond(\n",
    "            tf.cast(label_smoothing, dtype=tf.bool),\n",
    "            lambda: smooth_labels(labels),\n",
    "            lambda: labels,\n",
    "        )\n",
    "        num_samples = tf.cast(tf.shape(labels)[-1], dtype=labels.dtype)\n",
    "        cross_entropy = weighted_binary_loss(\n",
    "            apply_positive_weight, from_logits, reduction='none'\n",
    "        )(labels, logits)\n",
    "        \n",
    "        sigmoidal = tf.cond(\n",
    "            tf.cast(from_logits, dtype=tf.bool),\n",
    "            lambda: tf.nn.sigmoid(logits),\n",
    "            lambda: logits,\n",
    "        )\n",
    "        pt = labels * sigmoidal + (1.0 - labels) * (1.0 - sigmoidal)\n",
    "        focal_factor = tf.pow(1.0 - pt, gamma)\n",
    "        focal_bce =  focal_factor * cross_entropy\n",
    "        \n",
    "        if apply_class_balancing:\n",
    "            weight = labels * alpha + (1 - labels) * (1 - alpha)\n",
    "            focal_bce = weight * focal_bce\n",
    "\n",
    "        if reduction == 'mean':\n",
    "            return tf.reduce_mean(focal_bce)\n",
    "        elif reduction == 'sum':\n",
    "            return tf.reduce_sum(focal_bce) / num_samples\n",
    "        else:\n",
    "            raise ValueError(\n",
    "                'Reduction type should be `mean` or `sum` ',\n",
    "                f'But, received {reduction}'\n",
    "            )\n",
    "    return compute_loss"
   ]
  },
  {
   "cell_type": "code",
   "execution_count": 7,
   "id": "27e8f5c4-18fb-4d8f-a8d0-1b8a3a658a3e",
   "metadata": {},
   "outputs": [],
   "source": [
    "def cnn_model():\n",
    "    model = Sequential()\n",
    "    input_shape = (256, 256, 1)\n",
    "\n",
    "    model.add(Conv2D(filters=32, kernel_size = (3,3), strides =1, padding = 'same', activation = 'relu', input_shape = input_shape))\n",
    "    model.add(MaxPooling2D(pool_size=(2, 2)))\n",
    "    model.add(Conv2D(filters=64, kernel_size = (3,3), strides =1, padding = 'same', activation = 'relu'))\n",
    "    model.add(MaxPooling2D(pool_size=(2, 2)))\n",
    "    model.add(Conv2D(filters=128, kernel_size = (3,3), strides =1, padding = 'same', activation = 'relu'))\n",
    "    model.add(MaxPooling2D(pool_size=(2, 2)))\n",
    "    model.add(Conv2D(filters=256, kernel_size = (3,3), strides =1, padding = 'same', activation = 'relu'))\n",
    "    model.add(MaxPooling2D(pool_size=(2, 2)))\n",
    "\n",
    "    model.add(Dropout(0.13))\n",
    "    model.add(Flatten())\n",
    "    model.add(Dense(256, activation = 'relu'))\n",
    "    model.add(Dropout(0.13))\n",
    "    model.add(Dense(100, activation = 'relu'))\n",
    "    model.add(Dense(50, activation = 'relu'))\n",
    "    model.add(Dense(1 , activation=\"sigmoid\"))\n",
    "    \n",
    "    model.compile(loss='binary_crossentropy',\n",
    "              \n",
    "            optimizer=Adam(lr=0.001),metrics = [\n",
    "            tf_pfbeta(beta=1.0, from_logits=True),\n",
    "            tf_auc(from_logits=True)\n",
    "        ])\n",
    "    \n",
    "    return model"
   ]
  },
  {
   "cell_type": "code",
   "execution_count": 8,
   "id": "09802791-e254-4890-b828-0ebdc4a05908",
   "metadata": {},
   "outputs": [
    {
     "name": "stderr",
     "output_type": "stream",
     "text": [
      "INFO:__main__:y_train data type, int64 \n"
     ]
    }
   ],
   "source": [
    "# split dataset\n",
    "x_train, x_test, y_train, y_test = train_test_split(X_train, Y_train, test_size=0.35, random_state=42)\n",
    "logger.info(\"y_train data type, %s \", y_train.dtype)"
   ]
  },
  {
   "cell_type": "code",
   "execution_count": 9,
   "id": "3a4b460e-8a82-4131-a7ec-fff13dc60f7a",
   "metadata": {},
   "outputs": [
    {
     "name": "stdout",
     "output_type": "stream",
     "text": [
      "INFO:tensorflow:Using MirroredStrategy with devices ('/job:localhost/replica:0/task:0/device:GPU:0',)\n"
     ]
    },
    {
     "name": "stderr",
     "output_type": "stream",
     "text": [
      "INFO:tensorflow:Using MirroredStrategy with devices ('/job:localhost/replica:0/task:0/device:GPU:0',)\n",
      "INFO:__main__:Number of devices: 1\n"
     ]
    }
   ],
   "source": [
    "# to get your running OS\n",
    "my_os = platform.system()\n",
    "\n",
    "# Initilize Distributed Training\n",
    "if my_os == 'Windows':\n",
    "    # use this strategy because NCCL is not availbale in windows\n",
    "    mirrored_strategy = tf.distribute.MirroredStrategy(cross_device_ops=tf.distribute.HierarchicalCopyAllReduce())\n",
    "\n",
    "elif my_os =='Linux':\n",
    "    mirrored_strategy = tf.distribute.MirroredStrategy()\n",
    "    # mirrored_strategy = tf.distribute.MirroredStrategy(cross_device_ops=tf.distribute.HierarchicalCopyAllReduce())\n",
    "    logger.info('Number of devices: {}'.format(mirrored_strategy.num_replicas_in_sync))\n",
    "\n",
    "else:\n",
    "    logger.warning(\"Eh, ko pakai android ?\")"
   ]
  },
  {
   "cell_type": "code",
   "execution_count": 10,
   "id": "a32b1b35-f071-45b1-8bf1-d8c9f84061cd",
   "metadata": {},
   "outputs": [
    {
     "name": "stderr",
     "output_type": "stream",
     "text": [
      "INFO:__main__:BATCH_SIZE is 16 \n"
     ]
    }
   ],
   "source": [
    "# set batch size for training\n",
    "EPOCHS = 100\n",
    "BATCH_SIZE_PER_REPLICA = 16  # you may change to make training faster (if memory is available)\n",
    "BATCH_SIZE = BATCH_SIZE_PER_REPLICA * mirrored_strategy.num_replicas_in_sync\n",
    "logger.info(\"BATCH_SIZE is %s \", BATCH_SIZE)\n",
    "\n",
    "sabar = 25\n",
    "# Available metrics are: loss,pfbeta,auc,val_loss,val_pfbeta,val_auc\n",
    "# dict_keys(['loss', 'pfbeta', 'auc', 'val_loss', 'val_pfbeta', 'val_auc'])\n",
    "earlystop_callback = keras.callbacks.EarlyStopping( monitor='val_auc', mode='auto',\n",
    "                            verbose=1, patience=sabar, min_delta=1,\n",
    "                            baseline=0.1)\n",
    "\n",
    "filepath=\"model/tetek-weights-improvement-{epoch:02d}-{val_auc:.2f}.hdf5\"\n",
    "\n",
    "checkpoint_callback = ModelCheckpoint(filepath, monitor=\"val_auc\", mode=\"min\",\n",
    "\tsave_best_only=True, verbose=1)"
   ]
  },
  {
   "cell_type": "code",
   "execution_count": 11,
   "id": "8c4a14b8-2f0a-4173-887e-d62acaa6944a",
   "metadata": {},
   "outputs": [
    {
     "name": "stderr",
     "output_type": "stream",
     "text": [
      "INFO:__main__:Mirror strategy is used !\n"
     ]
    },
    {
     "name": "stdout",
     "output_type": "stream",
     "text": [
      "INFO:tensorflow:Reduce to /job:localhost/replica:0/task:0/device:CPU:0 then broadcast to ('/job:localhost/replica:0/task:0/device:CPU:0',).\n"
     ]
    },
    {
     "name": "stderr",
     "output_type": "stream",
     "text": [
      "/home/twistcode/Downloads/guasukalu/lib/python3.10/site-packages/keras/optimizers/optimizer_v2/adam.py:114: UserWarning: The `lr` argument is deprecated, use `learning_rate` instead.\n",
      "  super().__init__(name, **kwargs)\n",
      "INFO:tensorflow:Reduce to /job:localhost/replica:0/task:0/device:CPU:0 then broadcast to ('/job:localhost/replica:0/task:0/device:CPU:0',).\n"
     ]
    },
    {
     "name": "stdout",
     "output_type": "stream",
     "text": [
      "INFO:tensorflow:Reduce to /job:localhost/replica:0/task:0/device:CPU:0 then broadcast to ('/job:localhost/replica:0/task:0/device:CPU:0',).\n"
     ]
    },
    {
     "name": "stderr",
     "output_type": "stream",
     "text": [
      "INFO:tensorflow:Reduce to /job:localhost/replica:0/task:0/device:CPU:0 then broadcast to ('/job:localhost/replica:0/task:0/device:CPU:0',).\n"
     ]
    },
    {
     "name": "stdout",
     "output_type": "stream",
     "text": [
      "INFO:tensorflow:Reduce to /job:localhost/replica:0/task:0/device:CPU:0 then broadcast to ('/job:localhost/replica:0/task:0/device:CPU:0',).\n"
     ]
    },
    {
     "name": "stderr",
     "output_type": "stream",
     "text": [
      "INFO:tensorflow:Reduce to /job:localhost/replica:0/task:0/device:CPU:0 then broadcast to ('/job:localhost/replica:0/task:0/device:CPU:0',).\n"
     ]
    },
    {
     "name": "stdout",
     "output_type": "stream",
     "text": [
      "INFO:tensorflow:Reduce to /job:localhost/replica:0/task:0/device:CPU:0 then broadcast to ('/job:localhost/replica:0/task:0/device:CPU:0',).\n"
     ]
    },
    {
     "name": "stderr",
     "output_type": "stream",
     "text": [
      "INFO:tensorflow:Reduce to /job:localhost/replica:0/task:0/device:CPU:0 then broadcast to ('/job:localhost/replica:0/task:0/device:CPU:0',).\n"
     ]
    },
    {
     "name": "stdout",
     "output_type": "stream",
     "text": [
      "INFO:tensorflow:Reduce to /job:localhost/replica:0/task:0/device:CPU:0 then broadcast to ('/job:localhost/replica:0/task:0/device:CPU:0',).\n"
     ]
    },
    {
     "name": "stderr",
     "output_type": "stream",
     "text": [
      "INFO:tensorflow:Reduce to /job:localhost/replica:0/task:0/device:CPU:0 then broadcast to ('/job:localhost/replica:0/task:0/device:CPU:0',).\n"
     ]
    },
    {
     "name": "stdout",
     "output_type": "stream",
     "text": [
      "INFO:tensorflow:Reduce to /job:localhost/replica:0/task:0/device:CPU:0 then broadcast to ('/job:localhost/replica:0/task:0/device:CPU:0',).\n"
     ]
    },
    {
     "name": "stderr",
     "output_type": "stream",
     "text": [
      "INFO:tensorflow:Reduce to /job:localhost/replica:0/task:0/device:CPU:0 then broadcast to ('/job:localhost/replica:0/task:0/device:CPU:0',).\n"
     ]
    },
    {
     "name": "stdout",
     "output_type": "stream",
     "text": [
      "INFO:tensorflow:Reduce to /job:localhost/replica:0/task:0/device:CPU:0 then broadcast to ('/job:localhost/replica:0/task:0/device:CPU:0',).\n"
     ]
    },
    {
     "name": "stderr",
     "output_type": "stream",
     "text": [
      "INFO:tensorflow:Reduce to /job:localhost/replica:0/task:0/device:CPU:0 then broadcast to ('/job:localhost/replica:0/task:0/device:CPU:0',).\n"
     ]
    },
    {
     "name": "stdout",
     "output_type": "stream",
     "text": [
      "INFO:tensorflow:Reduce to /job:localhost/replica:0/task:0/device:CPU:0 then broadcast to ('/job:localhost/replica:0/task:0/device:CPU:0',).\n"
     ]
    },
    {
     "name": "stderr",
     "output_type": "stream",
     "text": [
      "INFO:tensorflow:Reduce to /job:localhost/replica:0/task:0/device:CPU:0 then broadcast to ('/job:localhost/replica:0/task:0/device:CPU:0',).\n"
     ]
    },
    {
     "name": "stdout",
     "output_type": "stream",
     "text": [
      "INFO:tensorflow:Reduce to /job:localhost/replica:0/task:0/device:CPU:0 then broadcast to ('/job:localhost/replica:0/task:0/device:CPU:0',).\n"
     ]
    },
    {
     "name": "stderr",
     "output_type": "stream",
     "text": [
      "INFO:tensorflow:Reduce to /job:localhost/replica:0/task:0/device:CPU:0 then broadcast to ('/job:localhost/replica:0/task:0/device:CPU:0',).\n"
     ]
    },
    {
     "name": "stdout",
     "output_type": "stream",
     "text": [
      "INFO:tensorflow:Reduce to /job:localhost/replica:0/task:0/device:CPU:0 then broadcast to ('/job:localhost/replica:0/task:0/device:CPU:0',).\n"
     ]
    },
    {
     "name": "stderr",
     "output_type": "stream",
     "text": [
      "INFO:tensorflow:Reduce to /job:localhost/replica:0/task:0/device:CPU:0 then broadcast to ('/job:localhost/replica:0/task:0/device:CPU:0',).\n"
     ]
    },
    {
     "name": "stdout",
     "output_type": "stream",
     "text": [
      "Model: \"sequential\"\n",
      "_________________________________________________________________\n",
      " Layer (type)                Output Shape              Param #   \n",
      "=================================================================\n",
      " conv2d (Conv2D)             (None, 256, 256, 32)      320       \n",
      "                                                                 \n",
      " max_pooling2d (MaxPooling2D  (None, 128, 128, 32)     0         \n",
      " )                                                               \n",
      "                                                                 \n",
      " conv2d_1 (Conv2D)           (None, 128, 128, 64)      18496     \n",
      "                                                                 \n",
      " max_pooling2d_1 (MaxPooling  (None, 64, 64, 64)       0         \n",
      " 2D)                                                             \n",
      "                                                                 \n",
      " conv2d_2 (Conv2D)           (None, 64, 64, 128)       73856     \n",
      "                                                                 \n",
      " max_pooling2d_2 (MaxPooling  (None, 32, 32, 128)      0         \n",
      " 2D)                                                             \n",
      "                                                                 \n",
      " conv2d_3 (Conv2D)           (None, 32, 32, 256)       295168    \n",
      "                                                                 \n",
      " max_pooling2d_3 (MaxPooling  (None, 16, 16, 256)      0         \n",
      " 2D)                                                             \n",
      "                                                                 \n",
      " dropout (Dropout)           (None, 16, 16, 256)       0         \n",
      "                                                                 \n",
      " flatten (Flatten)           (None, 65536)             0         \n",
      "                                                                 \n",
      " dense (Dense)               (None, 256)               16777472  \n",
      "                                                                 \n",
      " dropout_1 (Dropout)         (None, 256)               0         \n",
      "                                                                 \n",
      " dense_1 (Dense)             (None, 100)               25700     \n",
      "                                                                 \n",
      " dense_2 (Dense)             (None, 50)                5050      \n",
      "                                                                 \n",
      " dense_3 (Dense)             (None, 1)                 51        \n",
      "                                                                 \n",
      "=================================================================\n",
      "Total params: 17,196,113\n",
      "Trainable params: 17,196,113\n",
      "Non-trainable params: 0\n",
      "_________________________________________________________________\n"
     ]
    },
    {
     "name": "stderr",
     "output_type": "stream",
     "text": [
      "INFO:__main__:None\n"
     ]
    }
   ],
   "source": [
    "with mirrored_strategy.scope():\n",
    "    logger.info(\"Mirror strategy is used !\")\n",
    "    \n",
    "    model = cnn_model()\n",
    "    logger.info(model.summary())"
   ]
  },
  {
   "cell_type": "code",
   "execution_count": 12,
   "id": "182126f4-c28d-485c-9657-ac1541b9963b",
   "metadata": {},
   "outputs": [],
   "source": [
    "start = time.time()"
   ]
  },
  {
   "cell_type": "code",
   "execution_count": 13,
   "id": "4799ae72-255f-45d6-b6fa-8587b99112c0",
   "metadata": {},
   "outputs": [
    {
     "name": "stdout",
     "output_type": "stream",
     "text": [
      "Epoch 1/100\n"
     ]
    },
    {
     "name": "stderr",
     "output_type": "stream",
     "text": [
      "2023-01-02 23:59:46.829871: I tensorflow/stream_executor/cuda/cuda_dnn.cc:384] Loaded cuDNN version 8101\n"
     ]
    },
    {
     "name": "stdout",
     "output_type": "stream",
     "text": [
      "2315/2315 [==============================] - ETA: 0s - loss: 0.7952 - pfbeta: 0.0673 - auc: 0.4772\n",
      "Epoch 1: val_auc improved from inf to 0.50871, saving model to model/tetek-weights-improvement-01-0.51.hdf5\n",
      "2315/2315 [==============================] - 80s 33ms/step - loss: 0.7952 - pfbeta: 0.0673 - auc: 0.4772 - val_loss: 0.1678 - val_pfbeta: 0.0667 - val_auc: 0.5087\n",
      "Epoch 2/100\n",
      "2313/2315 [============================>.] - ETA: 0s - loss: 0.1735 - pfbeta: 0.0677 - auc: 0.5223\n",
      "Epoch 2: val_auc did not improve from 0.50871\n",
      "2315/2315 [==============================] - 70s 30ms/step - loss: 0.1734 - pfbeta: 0.0676 - auc: 0.5223 - val_loss: 0.1721 - val_pfbeta: 0.0666 - val_auc: 0.5214\n",
      "Epoch 3/100\n",
      "2314/2315 [============================>.] - ETA: 0s - loss: 0.1721 - pfbeta: 0.0673 - auc: 0.5231\n",
      "Epoch 3: val_auc did not improve from 0.50871\n",
      "2315/2315 [==============================] - 70s 30ms/step - loss: 0.1721 - pfbeta: 0.0673 - auc: 0.5231 - val_loss: 0.1771 - val_pfbeta: 0.0665 - val_auc: 0.5220\n",
      "Epoch 4/100\n",
      "2314/2315 [============================>.] - ETA: 0s - loss: 0.1726 - pfbeta: 0.0674 - auc: 0.5196\n",
      "Epoch 4: val_auc did not improve from 0.50871\n",
      "2315/2315 [==============================] - 71s 31ms/step - loss: 0.1726 - pfbeta: 0.0674 - auc: 0.5196 - val_loss: 0.1678 - val_pfbeta: 0.0666 - val_auc: 0.5189\n",
      "Epoch 5/100\n",
      "2315/2315 [==============================] - ETA: 0s - loss: 0.1703 - pfbeta: 0.0676 - auc: 0.5181\n",
      "Epoch 5: val_auc did not improve from 0.50871\n",
      "2315/2315 [==============================] - 70s 30ms/step - loss: 0.1703 - pfbeta: 0.0676 - auc: 0.5181 - val_loss: 0.1678 - val_pfbeta: 0.0666 - val_auc: 0.5175\n",
      "Epoch 6/100\n",
      "2315/2315 [==============================] - ETA: 0s - loss: 0.1686 - pfbeta: 0.0675 - auc: 0.5163\n",
      "Epoch 6: val_auc did not improve from 0.50871\n",
      "2315/2315 [==============================] - 70s 30ms/step - loss: 0.1686 - pfbeta: 0.0675 - auc: 0.5163 - val_loss: 0.1679 - val_pfbeta: 0.0666 - val_auc: 0.5153\n",
      "Epoch 7/100\n",
      "2313/2315 [============================>.] - ETA: 0s - loss: 0.1850 - pfbeta: 0.0675 - auc: 0.5145\n",
      "Epoch 7: val_auc did not improve from 0.50871\n",
      "2315/2315 [==============================] - 71s 31ms/step - loss: 0.1849 - pfbeta: 0.0675 - auc: 0.5145 - val_loss: 0.1687 - val_pfbeta: 0.0666 - val_auc: 0.5133\n",
      "Epoch 8/100\n",
      "2315/2315 [==============================] - ETA: 0s - loss: 0.1695 - pfbeta: 0.0672 - auc: 0.5125\n",
      "Epoch 8: val_auc did not improve from 0.50871\n",
      "2315/2315 [==============================] - 70s 30ms/step - loss: 0.1695 - pfbeta: 0.0672 - auc: 0.5125 - val_loss: 0.1677 - val_pfbeta: 0.0666 - val_auc: 0.5116\n",
      "Epoch 9/100\n",
      "2314/2315 [============================>.] - ETA: 0s - loss: 0.1702 - pfbeta: 0.0673 - auc: 0.5112\n",
      "Epoch 9: val_auc did not improve from 0.50871\n",
      "2315/2315 [==============================] - 71s 31ms/step - loss: 0.1702 - pfbeta: 0.0673 - auc: 0.5112 - val_loss: 0.1668 - val_pfbeta: 0.0667 - val_auc: 0.5119\n",
      "Epoch 10/100\n",
      "2314/2315 [============================>.] - ETA: 0s - loss: 0.1683 - pfbeta: 0.0672 - auc: 0.5127\n",
      "Epoch 10: val_auc did not improve from 0.50871\n",
      "2315/2315 [==============================] - 71s 31ms/step - loss: 0.1683 - pfbeta: 0.0672 - auc: 0.5127 - val_loss: 0.1709 - val_pfbeta: 0.0667 - val_auc: 0.5145\n",
      "Epoch 11/100\n",
      "2313/2315 [============================>.] - ETA: 0s - loss: 0.1695 - pfbeta: 0.0674 - auc: 0.5158\n",
      "Epoch 11: val_auc did not improve from 0.50871\n",
      "2315/2315 [==============================] - 71s 31ms/step - loss: 0.1697 - pfbeta: 0.0674 - auc: 0.5158 - val_loss: 0.1686 - val_pfbeta: 0.0666 - val_auc: 0.5163\n",
      "Epoch 12/100\n",
      "2314/2315 [============================>.] - ETA: 0s - loss: 0.1678 - pfbeta: 0.0673 - auc: 0.5171\n",
      "Epoch 12: val_auc did not improve from 0.50871\n",
      "2315/2315 [==============================] - 70s 30ms/step - loss: 0.1677 - pfbeta: 0.0672 - auc: 0.5171 - val_loss: 0.1678 - val_pfbeta: 0.0666 - val_auc: 0.5168\n",
      "Epoch 13/100\n",
      "2313/2315 [============================>.] - ETA: 0s - loss: 0.1681 - pfbeta: 0.0673 - auc: 0.5168\n",
      "Epoch 13: val_auc did not improve from 0.50871\n",
      "2315/2315 [==============================] - 71s 31ms/step - loss: 0.1681 - pfbeta: 0.0673 - auc: 0.5168 - val_loss: 0.1677 - val_pfbeta: 0.0666 - val_auc: 0.5164\n",
      "Epoch 14/100\n",
      "2314/2315 [============================>.] - ETA: 0s - loss: 0.1685 - pfbeta: 0.0675 - auc: 0.5160\n",
      "Epoch 14: val_auc did not improve from 0.50871\n",
      "2315/2315 [==============================] - 70s 30ms/step - loss: 0.1685 - pfbeta: 0.0675 - auc: 0.5160 - val_loss: 0.1679 - val_pfbeta: 0.0666 - val_auc: 0.5155\n",
      "Epoch 15/100\n",
      "2313/2315 [============================>.] - ETA: 0s - loss: 0.1691 - pfbeta: 0.0673 - auc: 0.5149\n",
      "Epoch 15: val_auc did not improve from 0.50871\n",
      "2315/2315 [==============================] - 70s 30ms/step - loss: 0.1690 - pfbeta: 0.0672 - auc: 0.5149 - val_loss: 0.1685 - val_pfbeta: 0.0667 - val_auc: 0.5144\n",
      "Epoch 16/100\n",
      "2313/2315 [============================>.] - ETA: 0s - loss: 0.1704 - pfbeta: 0.0672 - auc: 0.5141\n",
      "Epoch 16: val_auc did not improve from 0.50871\n",
      "2315/2315 [==============================] - 70s 30ms/step - loss: 0.1704 - pfbeta: 0.0672 - auc: 0.5141 - val_loss: 0.1686 - val_pfbeta: 0.0666 - val_auc: 0.5137\n",
      "Epoch 17/100\n",
      "2313/2315 [============================>.] - ETA: 0s - loss: 0.1684 - pfbeta: 0.0675 - auc: 0.5133\n",
      "Epoch 17: val_auc did not improve from 0.50871\n",
      "2315/2315 [==============================] - 71s 31ms/step - loss: 0.1684 - pfbeta: 0.0675 - auc: 0.5133 - val_loss: 0.1678 - val_pfbeta: 0.0666 - val_auc: 0.5129\n",
      "Epoch 18/100\n",
      "2314/2315 [============================>.] - ETA: 0s - loss: 0.1686 - pfbeta: 0.0675 - auc: 0.5126\n",
      "Epoch 18: val_auc did not improve from 0.50871\n",
      "2315/2315 [==============================] - 70s 30ms/step - loss: 0.1686 - pfbeta: 0.0674 - auc: 0.5126 - val_loss: 0.1677 - val_pfbeta: 0.0666 - val_auc: 0.5123\n",
      "Epoch 19/100\n",
      "2313/2315 [============================>.] - ETA: 0s - loss: 0.1684 - pfbeta: 0.0670 - auc: 0.5120\n",
      "Epoch 19: val_auc did not improve from 0.50871\n",
      "2315/2315 [==============================] - 70s 30ms/step - loss: 0.1685 - pfbeta: 0.0670 - auc: 0.5120 - val_loss: 0.1689 - val_pfbeta: 0.0666 - val_auc: 0.5117\n",
      "Epoch 20/100\n",
      "2315/2315 [==============================] - ETA: 0s - loss: 0.1700 - pfbeta: 0.0673 - auc: 0.5114\n",
      "Epoch 20: val_auc did not improve from 0.50871\n",
      "2315/2315 [==============================] - 70s 30ms/step - loss: 0.1700 - pfbeta: 0.0673 - auc: 0.5114 - val_loss: 0.1677 - val_pfbeta: 0.0666 - val_auc: 0.5111\n",
      "Epoch 21/100\n",
      "2314/2315 [============================>.] - ETA: 0s - loss: 0.1685 - pfbeta: 0.0674 - auc: 0.5109\n",
      "Epoch 21: val_auc did not improve from 0.50871\n",
      "2315/2315 [==============================] - 71s 30ms/step - loss: 0.1685 - pfbeta: 0.0673 - auc: 0.5109 - val_loss: 0.1677 - val_pfbeta: 0.0666 - val_auc: 0.5106\n",
      "Epoch 22/100\n",
      "2313/2315 [============================>.] - ETA: 0s - loss: 0.1852 - pfbeta: 0.0675 - auc: 0.5103\n",
      "Epoch 22: val_auc did not improve from 0.50871\n",
      "2315/2315 [==============================] - 71s 31ms/step - loss: 0.1851 - pfbeta: 0.0675 - auc: 0.5103 - val_loss: 0.1681 - val_pfbeta: 0.0666 - val_auc: 0.5101\n",
      "Epoch 23/100\n",
      "2314/2315 [============================>.] - ETA: 0s - loss: 0.1689 - pfbeta: 0.0675 - auc: 0.5099\n",
      "Epoch 23: val_auc did not improve from 0.50871\n",
      "2315/2315 [==============================] - 72s 31ms/step - loss: 0.1689 - pfbeta: 0.0675 - auc: 0.5099 - val_loss: 0.1677 - val_pfbeta: 0.0666 - val_auc: 0.5097\n",
      "Epoch 24/100\n",
      "2313/2315 [============================>.] - ETA: 0s - loss: 0.1684 - pfbeta: 0.0673 - auc: 0.5095\n",
      "Epoch 24: val_auc did not improve from 0.50871\n",
      "2315/2315 [==============================] - 71s 31ms/step - loss: 0.1685 - pfbeta: 0.0675 - auc: 0.5095 - val_loss: 0.1679 - val_pfbeta: 0.0666 - val_auc: 0.5094\n",
      "Epoch 25/100\n",
      "2313/2315 [============================>.] - ETA: 0s - loss: 0.1693 - pfbeta: 0.0673 - auc: 0.5092\n",
      "Epoch 25: val_auc did not improve from 0.50871\n",
      "2315/2315 [==============================] - 72s 31ms/step - loss: 0.1693 - pfbeta: 0.0673 - auc: 0.5092 - val_loss: 0.1680 - val_pfbeta: 0.0666 - val_auc: 0.5090\n",
      "Epoch 25: early stopping\n",
      "CPU times: user 40min 19s, sys: 2min 18s, total: 42min 38s\n",
      "Wall time: 29min 42s\n"
     ]
    }
   ],
   "source": [
    "%time history = model.fit(x_train, y_train, validation_data=(x_test,y_test), callbacks=[earlystop_callback, checkpoint_callback],epochs=EPOCHS, batch_size=BATCH_SIZE)"
   ]
  },
  {
   "cell_type": "code",
   "execution_count": 14,
   "id": "7bcdd993-483a-48e8-87e3-4ab633d31f13",
   "metadata": {},
   "outputs": [
    {
     "name": "stderr",
     "output_type": "stream",
     "text": [
      "INFO:__main__:It took 1782.907841205597 seconds to train\n",
      "INFO:__main__:Training finish !\n"
     ]
    }
   ],
   "source": [
    "logger.info(\"It took {} seconds to train\".format(time.time() - start)) \n",
    "logger.info(\"Training finish !\")"
   ]
  },
  {
   "cell_type": "code",
   "execution_count": 15,
   "id": "91b9baa9-53ca-4386-a68c-42aafadd339d",
   "metadata": {},
   "outputs": [
    {
     "name": "stderr",
     "output_type": "stream",
     "text": [
      "INFO:__main__:TF history have these metrics -->, dict_keys(['loss', 'pfbeta', 'auc', 'val_loss', 'val_pfbeta', 'val_auc']) \n"
     ]
    }
   ],
   "source": [
    "logger.info(\"TF history have these metrics -->, %s \", history.history.keys())"
   ]
  },
  {
   "cell_type": "code",
   "execution_count": 16,
   "id": "dd71ae32-ffb9-4eff-93b7-31d939003771",
   "metadata": {},
   "outputs": [
    {
     "name": "stdout",
     "output_type": "stream",
     "text": [
      "Model Saved!\n"
     ]
    }
   ],
   "source": [
    "# save model\n",
    "model.save('model/rsna_hoi_tetek.h5')\n",
    "print('Model Saved!')"
   ]
  },
  {
   "cell_type": "code",
   "execution_count": 17,
   "id": "eca13b81-0bef-4a25-a7e4-ee3f7dea811a",
   "metadata": {},
   "outputs": [
    {
     "data": {
      "image/png": "[encoded data removed]",
      "text/plain": [
       "<Figure size 640x480 with 2 Axes>"
      ]
     },
     "metadata": {},
     "output_type": "display_data"
    }
   ],
   "source": [
    "plt.xkcd()\n",
    "# plt.style.use(\"seaborn\")\n",
    "plt.style.use(\"seaborn-v0_8-darkgrid\")\n",
    "\n",
    "# summarize history for loss\n",
    "# Model accuracy\n",
    "plt.subplot(1, 2, 1) # row 1, col 2 index 1\n",
    "plt.plot(history.history['auc'])\n",
    "plt.plot(history.history['val_auc'])\n",
    "plt.title('Model Accuracy')\n",
    "plt.ylabel('accuracy')\n",
    "plt.xlabel('epoch')\n",
    "plt.legend(['train', 'test'])\n",
    "\n",
    "# Model Losss\n",
    "plt.subplot(1, 2, 2) # index 2\n",
    "plt.subplots_adjust(wspace=0.5)\n",
    "plt.plot(history.history['loss'])\n",
    "plt.plot(history.history['val_loss'])\n",
    "plt.title('Model Loss')\n",
    "plt.ylabel('loss')\n",
    "plt.xlabel('epoch')\n",
    "plt.legend(['train', 'test'])\n",
    "plt.savefig('model/training_plot_many_data.png')\n",
    "plt.show()"
   ]
  },
  {
   "cell_type": "code",
   "execution_count": 20,
   "id": "0795f6bf-3077-4a5f-991f-e64cac3bfe1e",
   "metadata": {},
   "outputs": [],
   "source": [
    "# model.evaluate(x_test,y_test)"
   ]
  }
 ],
 "metadata": {
  "kernelspec": {
   "display_name": "Python 3 (ipykernel)",
   "language": "python",
   "name": "python3"
  },
  "language_info": {
   "codemirror_mode": {
    "name": "ipython",
    "version": 3
   },
   "file_extension": ".py",
   "mimetype": "text/x-python",
   "name": "python",
   "nbconvert_exporter": "python",
   "pygments_lexer": "ipython3",
   "version": "3.8.10"
  },
  "widgets": {
   "application/vnd.jupyter.widget-state+json": {
    "state": {},
    "version_major": 2,
    "version_minor": 0
   }
  }
 },
 "nbformat": 4,
 "nbformat_minor": 5
}
